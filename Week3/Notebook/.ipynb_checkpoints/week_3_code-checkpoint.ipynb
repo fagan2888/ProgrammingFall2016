{
 "cells": [
  {
   "cell_type": "code",
   "execution_count": 71,
   "metadata": {
    "collapsed": false
   },
   "outputs": [],
   "source": [
    "# Origin: Code for week 3 of programming class.\n",
    "# Author: Tyler Abbot\n",
    "# Title: week_3_code.ipynb\n",
    "# Last modified: 2016.08.03"
   ]
  },
  {
   "cell_type": "markdown",
   "metadata": {},
   "source": [
    "NOTE: If you want to hide the code, use this:\n",
    "\n",
    "http://chris-said.io/2016/02/13/how-to-make-polished-jupyter-presentations-with-optional-code-visibility/"
   ]
  },
  {
   "cell_type": "markdown",
   "metadata": {},
   "source": [
    "# Introduction\n",
    "\n",
    "Today's class will introduce you to functions in R. The notes are written in the Jupyter notebook in order to make things easier to run in class, but the same code is available in an R script in the course repository.\n",
    "\n",
    "## Today's Objective\n",
    "\n",
    "Our goal for the day is to become familiar with functions. We would like to achieve the following objectives:\n",
    "1. Learn how a computer represents mathematical functions.\n",
    "2. Learn how a programmatic function works.\n",
    "3. Learn how to define our own functions.\n",
    "4. Learn about data types, function arguments, and namespaces.\n",
    "5. Learn how to nest functions.\n",
    "\n",
    "If by the end of the class, you feel we haven't sufficiently covered one of these, speak up!\n",
    "\n",
    "## A Working Example : Monte Carlo\n",
    "\n",
    "The idea behind Monte Carlo is to approximate an integral by an average. If we take a random variable $X \\sim f(x)$ and draw a sample $\\{x_i\\}_{i=1}^N$, then the following should hold:\n",
    "$$\n",
    "\\mathbb{E}X = \\int x f(x) dx \\approx \\frac{1}{N}\\sum_i x_i\n",
    "$$\n",
    "Maybe the distribution $f(\\cdot)$ is difficult to calculate or unknown, but we can still generate draws of $x_i$. In any case, we'll use this simple example as our working example for this class."
   ]
  },
  {
   "cell_type": "markdown",
   "metadata": {},
   "source": [
    "## What's a function?\n",
    "\n",
    "You probably know what a mathematical function is, a mapping from some abstract space to another. Arguments go in, results come out. For example $f(x) = x^2$ is a function.\n",
    "\n",
    "You've already seen functions in this class. For example addition:"
   ]
  },
  {
   "cell_type": "code",
   "execution_count": 1,
   "metadata": {
    "collapsed": false
   },
   "outputs": [
    {
     "data": {
      "text/html": [
       "2"
      ],
      "text/latex": [
       "2"
      ],
      "text/markdown": [
       "2"
      ],
      "text/plain": [
       "[1] 2"
      ]
     },
     "metadata": {},
     "output_type": "display_data"
    }
   ],
   "source": [
    "1 + 1"
   ]
  },
  {
   "cell_type": "markdown",
   "metadata": {},
   "source": [
    "You've also seen more abstract functions, such as `typeof`:"
   ]
  },
  {
   "cell_type": "code",
   "execution_count": 2,
   "metadata": {
    "collapsed": false
   },
   "outputs": [
    {
     "data": {
      "text/html": [
       "'double'"
      ],
      "text/latex": [
       "'double'"
      ],
      "text/markdown": [
       "'double'"
      ],
      "text/plain": [
       "[1] \"double\""
      ]
     },
     "metadata": {},
     "output_type": "display_data"
    }
   ],
   "source": [
    "typeof(1.0)"
   ]
  },
  {
   "cell_type": "markdown",
   "metadata": {},
   "source": [
    "These are native R functions. You can also define your own functions. For example let's define our own addition function (redundant, I know, but it's pedagogical):"
   ]
  },
  {
   "cell_type": "code",
   "execution_count": 4,
   "metadata": {
    "collapsed": false
   },
   "outputs": [],
   "source": [
    "add <- function(a, b){\n",
    "    return(a + b)\n",
    "}"
   ]
  },
  {
   "cell_type": "code",
   "execution_count": 6,
   "metadata": {
    "collapsed": false
   },
   "outputs": [
    {
     "data": {
      "text/html": [
       "2"
      ],
      "text/latex": [
       "2"
      ],
      "text/markdown": [
       "2"
      ],
      "text/plain": [
       "[1] 2"
      ]
     },
     "metadata": {},
     "output_type": "display_data"
    }
   ],
   "source": [
    "add(1, 1)"
   ]
  },
  {
   "cell_type": "markdown",
   "metadata": {},
   "source": [
    "That's it! That's all there is to defining a function. However, we will need to discuss some of the more tedious points of functions in order to truly understand how they work.\n",
    "\n",
    "Before we move on, note that if you would like to display the code of a function, you can always do sy by executing its name without parenthesis:"
   ]
  },
  {
   "cell_type": "code",
   "execution_count": 9,
   "metadata": {
    "collapsed": false
   },
   "outputs": [
    {
     "data": {
      "text/html": [
       "<pre class=language-r><code>function (a, b) \n",
       "{\n",
       "    return(a + b)\n",
       "}</code></pre>"
      ],
      "text/latex": [
       "\\begin{minted}{r}\n",
       "function (a, b) \n",
       "\\{\n",
       "    return(a + b)\n",
       "\\}\n",
       "\\end{minted}"
      ],
      "text/markdown": [
       "```r\n",
       "function (a, b) \n",
       "{\n",
       "    return(a + b)\n",
       "}\n",
       "```"
      ],
      "text/plain": [
       "function(a, b){\n",
       "    return(a + b)\n",
       "}"
      ]
     },
     "metadata": {},
     "output_type": "display_data"
    }
   ],
   "source": [
    "add"
   ]
  },
  {
   "cell_type": "markdown",
   "metadata": {},
   "source": [
    "## Code Documentation\n",
    "\n",
    "Before we move on it is important to discuss documentation. You should always document your functions in order to be able to share them with others and remember yourself why you wrote them. Take for example the following function:"
   ]
  },
  {
   "cell_type": "code",
   "execution_count": 17,
   "metadata": {
    "collapsed": false
   },
   "outputs": [
    {
     "data": {
      "text/html": [
       "1"
      ],
      "text/latex": [
       "1"
      ],
      "text/markdown": [
       "1"
      ],
      "text/plain": [
       "[1] 1"
      ]
     },
     "metadata": {},
     "output_type": "display_data"
    }
   ],
   "source": [
    "whereis <- function(pattern, word){\n",
    "    return(grep(pattern, word))\n",
    "}\n",
    "whereis('I', 'Im lost')"
   ]
  },
  {
   "cell_type": "markdown",
   "metadata": {},
   "source": [
    "If you are new to programming (as most of you are) this probably seems pretty opaque. To that end, one usually has help documents:"
   ]
  },
  {
   "cell_type": "code",
   "execution_count": 13,
   "metadata": {
    "collapsed": false
   },
   "outputs": [
    {
     "data": {
      "text/html": [
       "\n",
       "<table width=\"100%\" summary=\"page for grep {base}\"><tr><td>grep {base}</td><td style=\"text-align: right;\">R Documentation</td></tr></table>\n",
       "\n",
       "<h2>Pattern Matching and Replacement</h2>\n",
       "\n",
       "<h3>Description</h3>\n",
       "\n",
       "<p><code>grep</code>, <code>grepl</code>, <code>regexpr</code>, <code>gregexpr</code> and\n",
       "<code>regexec</code> search for matches to argument <code>pattern</code> within\n",
       "each element of a character vector: they differ in the format of and\n",
       "amount of detail in the results.\n",
       "</p>\n",
       "<p><code>sub</code> and <code>gsub</code> perform replacement of the first and all\n",
       "matches respectively.\n",
       "</p>\n",
       "\n",
       "\n",
       "<h3>Usage</h3>\n",
       "\n",
       "<pre>\n",
       "grep(pattern, x, ignore.case = FALSE, perl = FALSE, value = FALSE,\n",
       "     fixed = FALSE, useBytes = FALSE, invert = FALSE)\n",
       "\n",
       "grepl(pattern, x, ignore.case = FALSE, perl = FALSE,\n",
       "      fixed = FALSE, useBytes = FALSE)\n",
       "\n",
       "sub(pattern, replacement, x, ignore.case = FALSE, perl = FALSE,\n",
       "    fixed = FALSE, useBytes = FALSE)\n",
       "\n",
       "gsub(pattern, replacement, x, ignore.case = FALSE, perl = FALSE,\n",
       "     fixed = FALSE, useBytes = FALSE)\n",
       "\n",
       "regexpr(pattern, text, ignore.case = FALSE, perl = FALSE,\n",
       "        fixed = FALSE, useBytes = FALSE)\n",
       "\n",
       "gregexpr(pattern, text, ignore.case = FALSE, perl = FALSE,\n",
       "         fixed = FALSE, useBytes = FALSE)\n",
       "\n",
       "regexec(pattern, text, ignore.case = FALSE, perl = FALSE,\n",
       "        fixed = FALSE, useBytes = FALSE)\n",
       "</pre>\n",
       "\n",
       "\n",
       "<h3>Arguments</h3>\n",
       "\n",
       "<table summary=\"R argblock\">\n",
       "<tr valign=\"top\"><td><code>pattern</code></td>\n",
       "<td>\n",
       "<p>character string containing a regular expression\n",
       "(or character string for <code>fixed = TRUE</code>) to be matched\n",
       "in the given character vector.  Coerced by\n",
       "<code>as.character</code> to a character string if possible.  If a\n",
       "character vector of length 2 or more is supplied, the first element\n",
       "is used with a warning.  Missing values are allowed except for\n",
       "<code>regexpr</code> and <code>gregexpr</code>.</p>\n",
       "</td></tr>\n",
       "<tr valign=\"top\"><td><code>x, text</code></td>\n",
       "<td>\n",
       "<p>a character vector where matches are sought, or an\n",
       "object which can be coerced by <code>as.character</code> to a character\n",
       "vector.  Long vectors are supported.</p>\n",
       "</td></tr>\n",
       "<tr valign=\"top\"><td><code>ignore.case</code></td>\n",
       "<td>\n",
       "<p>if <code>FALSE</code>, the pattern matching is <em>case\n",
       "sensitive</em> and if <code>TRUE</code>, case is ignored during matching.</p>\n",
       "</td></tr>\n",
       "<tr valign=\"top\"><td><code>perl</code></td>\n",
       "<td>\n",
       "<p>logical.  Should Perl-compatible regexps be used?</p>\n",
       "</td></tr>\n",
       "<tr valign=\"top\"><td><code>value</code></td>\n",
       "<td>\n",
       "<p>if <code>FALSE</code>, a vector containing the (<code>integer</code>)\n",
       "indices of the matches determined by <code>grep</code> is returned, and if\n",
       "<code>TRUE</code>, a vector containing the matching elements themselves is\n",
       "returned.</p>\n",
       "</td></tr>\n",
       "<tr valign=\"top\"><td><code>fixed</code></td>\n",
       "<td>\n",
       "<p>logical.  If <code>TRUE</code>, <code>pattern</code> is a string to be\n",
       "matched as is.  Overrides all conflicting arguments.</p>\n",
       "</td></tr>\n",
       "<tr valign=\"top\"><td><code>useBytes</code></td>\n",
       "<td>\n",
       "<p>logical.  If <code>TRUE</code> the matching is done\n",
       "byte-by-byte rather than character-by-character.  See\n",
       "&lsquo;Details&rsquo;.</p>\n",
       "</td></tr>\n",
       "<tr valign=\"top\"><td><code>invert</code></td>\n",
       "<td>\n",
       "<p>logical.  If <code>TRUE</code> return indices or values for\n",
       "elements that do <em>not</em> match.</p>\n",
       "</td></tr>\n",
       "<tr valign=\"top\"><td><code>replacement</code></td>\n",
       "<td>\n",
       "<p>a replacement for matched pattern in <code>sub</code> and\n",
       "<code>gsub</code>.  Coerced to character if possible.  For <code>fixed =\n",
       "      FALSE</code> this can include backreferences <code>\"\\1\"</code> to\n",
       "<code>\"\\9\"</code> to parenthesized subexpressions of <code>pattern</code>.  For\n",
       "<code>perl = TRUE</code> only, it can also contain <code>\"\\U\"</code> or\n",
       "<code>\"\\L\"</code> to convert the rest of the replacement to upper or\n",
       "lower case and <code>\"\\E\"</code> to end case conversion.  If a\n",
       "character vector of length 2 or more is supplied, the first element\n",
       "is used with a warning.  If <code>NA</code>, all elements in the result\n",
       "corresponding to matches will be set to <code>NA</code>.\n",
       "</p>\n",
       "</td></tr>\n",
       "</table>\n",
       "\n",
       "\n",
       "<h3>Details</h3>\n",
       "\n",
       "<p>Arguments which should be character strings or character vectors are\n",
       "coerced to character if possible.\n",
       "</p>\n",
       "<p>Each of these functions (apart from <code>regexec</code>, which currently\n",
       "does not support Perl-style regular expressions) operates in one of\n",
       "three modes:\n",
       "</p>\n",
       "\n",
       "<ol>\n",
       "<li> <p><code>fixed = TRUE</code>: use exact matching.\n",
       "</p>\n",
       "</li>\n",
       "<li> <p><code>perl = TRUE</code>: use Perl-style regular expressions.\n",
       "</p>\n",
       "</li>\n",
       "<li> <p><code>fixed = FALSE, perl = FALSE</code>: use POSIX 1003.2\n",
       "extended regular expressions.\n",
       "</p>\n",
       "</li></ol>\n",
       "\n",
       "<p>See the help pages on regular expression for details of the\n",
       "different types of regular expressions.\n",
       "</p>\n",
       "<p>The two <code>*sub</code> functions differ only in that <code>sub</code> replaces\n",
       "only the first occurrence of a <code>pattern</code> whereas <code>gsub</code>\n",
       "replaces all occurrences.  If <code>replacement</code> contains\n",
       "backreferences which are not defined in <code>pattern</code> the result is\n",
       "undefined (but most often the backreference is taken to be <code>\"\"</code>).\n",
       "</p>\n",
       "<p>For <code>regexpr</code>, <code>gregexpr</code> and <code>regexec</code> it is an error\n",
       "for <code>pattern</code> to be <code>NA</code>, otherwise <code>NA</code> is permitted\n",
       "and gives an <code>NA</code> match.\n",
       "</p>\n",
       "<p>The main effect of <code>useBytes</code> is to avoid errors/warnings about\n",
       "invalid inputs and spurious matches in multibyte locales, but for\n",
       "<code>regexpr</code> it changes the interpretation of the output.\n",
       "It inhibits the conversion of inputs with marked encodings, and is\n",
       "forced if any input is found which is marked as <code>\"bytes\"</code>\n",
       "see <code>Encoding</code>).\n",
       "</p>\n",
       "<p>Caseless matching does not make much sense for bytes in a multibyte\n",
       "locale, and you should expect it only to work for ASCII characters if\n",
       "<code>useBytes = TRUE</code>.\n",
       "</p>\n",
       "<p><code>regexpr</code> and <code>gregexpr</code> with <code>perl = TRUE</code> allow\n",
       "Python-style named captures, but not for <em>long vector</em> inputs.\n",
       "</p>\n",
       "<p>Invalid inputs in the current locale are warned about up to 5 times.\n",
       "</p>\n",
       "<p>Caseless matching with <code>PERL = TRUE</code> for non-ASCII characters\n",
       "depends on the PCRE library being compiled with &lsquo;Unicode\n",
       "property support&rsquo;: an external library might not be.\n",
       "</p>\n",
       "\n",
       "\n",
       "<h3>Value</h3>\n",
       "\n",
       "<p><code>grep(value = FALSE)</code> returns a vector of the indices\n",
       "of the elements of <code>x</code> that yielded a match (or not, for\n",
       "<code>invert = TRUE</code>.  This will be an integer vector unless the input\n",
       "is a <em>long vector</em>, when it will be a double vector.\n",
       "</p>\n",
       "<p><code>grep(value = TRUE)</code> returns a character vector containing the\n",
       "selected elements of <code>x</code> (after coercion, preserving names but no\n",
       "other attributes).\n",
       "</p>\n",
       "<p><code>grepl</code> returns a logical vector (match or not for each element of\n",
       "<code>x</code>).\n",
       "</p>\n",
       "<p>For <code>sub</code> and <code>gsub</code> return a character vector of the same\n",
       "length and with the same attributes as <code>x</code> (after possible\n",
       "coercion to character).  Elements of character vectors <code>x</code> which\n",
       "are not substituted will be returned unchanged (including any declared\n",
       "encoding).  If <code>useBytes = FALSE</code> a non-ASCII substituted result\n",
       "will often be in UTF-8 with a marked encoding (e.g., if there is a\n",
       "UTF-8 input, and in a multibyte locale unless <code>fixed = TRUE</code>).\n",
       "Such strings can be re-encoded by <code>enc2native</code>.\n",
       "</p>\n",
       "<p><code>regexpr</code> returns an integer vector of the same length as\n",
       "<code>text</code> giving the starting position of the first match or\n",
       "<i>-1</i> if there is none, with attribute <code>\"match.length\"</code>, an\n",
       "integer vector giving the length of the matched text (or <i>-1</i> for\n",
       "no match).  The match positions and lengths are in characters unless\n",
       "<code>useBytes = TRUE</code> is used, when they are in bytes.  If named\n",
       "capture is used there are further attributes <code>\"capture.start\"</code>,\n",
       "<code>\"capture.length\"</code> and <code>\"capture.names\"</code>.\n",
       "</p>\n",
       "<p><code>gregexpr</code> returns a list of the same length as <code>text</code> each\n",
       "element of which is of the same form as the return value for\n",
       "<code>regexpr</code>, except that the starting positions of every (disjoint)\n",
       "match are given.\n",
       "</p>\n",
       "<p><code>regexec</code> returns a list of the same length as <code>text</code> each\n",
       "element of which is either <i>-1</i> if there is no match, or a\n",
       "sequence of integers with the starting positions of the match and all\n",
       "substrings corresponding to parenthesized subexpressions of\n",
       "<code>pattern</code>, with attribute <code>\"match.length\"</code> a vector\n",
       "giving the lengths of the matches (or <i>-1</i> for no match).\n",
       "</p>\n",
       "\n",
       "\n",
       "<h3>Warning</h3>\n",
       "\n",
       "<p>POSIX 1003.2 mode of <code>gsub</code> and <code>gregexpr</code> does not\n",
       "work correctly with repeated word-boundaries (e.g., <code>pattern =\n",
       "  \"\\b\"</code>).  Use <code>perl = TRUE</code> for such matches (but that may not\n",
       "work as expected with non-ASCII inputs, as the meaning of\n",
       "&lsquo;word&rsquo; is system-dependent).\n",
       "</p>\n",
       "\n",
       "\n",
       "<h3>Performance considerations</h3>\n",
       "\n",
       "<p>If you are doing a lot of regular expression matching, including on\n",
       "very long strings, you will want to consider the options used.\n",
       "Generally PCRE will be faster than the default regular expression\n",
       "engine, and <code>fixed = TRUE</code> faster still (especially when each\n",
       "pattern is matched only a few times).\n",
       "</p>\n",
       "<p>If you are working in a single-byte locale and have marked UTF-8\n",
       "strings that are representable in that locale, convert them first as\n",
       "just one UTF-8 string will force all the matching to be done in\n",
       "Unicode, which attracts a penalty of around <i>3x</i> for\n",
       "the default POSIX 1003.2 mode.\n",
       "</p>\n",
       "<p>If you can make use of <code>useBytes = TRUE</code>, the strings will not be\n",
       "checked before matching, and the actual matching will be faster.\n",
       "Often byte-based matching suffices in a UTF-8 locale since byte\n",
       "patterns of one character never match part of another.\n",
       "</p>\n",
       "\n",
       "\n",
       "<h3>Source</h3>\n",
       "\n",
       "<p>The C code for POSIX-style regular expression matching has changed\n",
       "over the years.  As from <span style=\"font-family: Courier New, Courier; color: #666666;\"><b>R</b></span> 2.10.0 the TRE library of Ville Laurikari\n",
       "(<a href=\"http://laurikari.net/tre/\">http://laurikari.net/tre/</a>) is used.  The POSIX standard does\n",
       "give some room for interpretation, especially in the handling of\n",
       "invalid regular expressions and the collation of character ranges, so\n",
       "the results will have changed slightly over the years.\n",
       "</p>\n",
       "<p>For Perl-style matching PCRE (<a href=\"http://www.pcre.org\">http://www.pcre.org</a>) is used.\n",
       "</p>\n",
       "\n",
       "\n",
       "<h3>References</h3>\n",
       "\n",
       "<p>Becker, R. A., Chambers, J. M. and Wilks, A. R. (1988)\n",
       "<em>The New S Language</em>.\n",
       "Wadsworth &amp; Brooks/Cole (<code>grep</code>)\n",
       "</p>\n",
       "\n",
       "\n",
       "<h3>See Also</h3>\n",
       "\n",
       "<p>regular expression (aka <code>regexp</code>) for the details\n",
       "of the pattern specification.\n",
       "</p>\n",
       "<p><code>regmatches</code> for extracting matched substrings based on\n",
       "the results of <code>regexpr</code>, <code>gregexpr</code> and <code>regexec</code>.\n",
       "</p>\n",
       "<p><code>glob2rx</code> to turn wildcard matches into regular expressions.\n",
       "</p>\n",
       "<p><code>agrep</code> for approximate matching.\n",
       "</p>\n",
       "<p><code>charmatch</code>, <code>pmatch</code> for partial matching,\n",
       "<code>match</code> for matching to whole strings,\n",
       "<code>startsWith</code> for matching of initial parts of strings.\n",
       "</p>\n",
       "<p><code>tolower</code>, <code>toupper</code> and <code>chartr</code>\n",
       "for character translations.\n",
       "</p>\n",
       "<p><code>apropos</code> uses regexps and has more examples.\n",
       "</p>\n",
       "<p><code>grepRaw</code> for matching raw vectors.\n",
       "</p>\n",
       "\n",
       "\n",
       "<h3>Examples</h3>\n",
       "\n",
       "<pre>\n",
       "grep(\"[a-z]\", letters)\n",
       "\n",
       "txt &lt;- c(\"arm\",\"foot\",\"lefroo\", \"bafoobar\")\n",
       "if(length(i &lt;- grep(\"foo\", txt)))\n",
       "   cat(\"'foo' appears at least once in\\n\\t\", txt, \"\\n\")\n",
       "i # 2 and 4\n",
       "txt[i]\n",
       "\n",
       "## Double all 'a' or 'b's;  \"\\\" must be escaped, i.e., 'doubled'\n",
       "gsub(\"([ab])\", \"\\\\1_\\\\1_\", \"abc and ABC\")\n",
       "\n",
       "txt &lt;- c(\"The\", \"licenses\", \"for\", \"most\", \"software\", \"are\",\n",
       "  \"designed\", \"to\", \"take\", \"away\", \"your\", \"freedom\",\n",
       "  \"to\", \"share\", \"and\", \"change\", \"it.\",\n",
       "   \"\", \"By\", \"contrast,\", \"the\", \"GNU\", \"General\", \"Public\", \"License\",\n",
       "   \"is\", \"intended\", \"to\", \"guarantee\", \"your\", \"freedom\", \"to\",\n",
       "   \"share\", \"and\", \"change\", \"free\", \"software\", \"--\",\n",
       "   \"to\", \"make\", \"sure\", \"the\", \"software\", \"is\",\n",
       "   \"free\", \"for\", \"all\", \"its\", \"users\")\n",
       "( i &lt;- grep(\"[gu]\", txt) ) # indices\n",
       "stopifnot( txt[i] == grep(\"[gu]\", txt, value = TRUE) )\n",
       "\n",
       "## Note that in locales such as en_US this includes B as the\n",
       "## collation order is aAbBcCdEe ...\n",
       "(ot &lt;- sub(\"[b-e]\",\".\", txt))\n",
       "txt[ot != gsub(\"[b-e]\",\".\", txt)]#- gsub does \"global\" substitution\n",
       "\n",
       "txt[gsub(\"g\",\"#\", txt) !=\n",
       "    gsub(\"g\",\"#\", txt, ignore.case = TRUE)] # the \"G\" words\n",
       "\n",
       "regexpr(\"en\", txt)\n",
       "\n",
       "gregexpr(\"e\", txt)\n",
       "\n",
       "## Using grepl() for filtering\n",
       "## Find functions with argument names matching \"warn\":\n",
       "findArgs &lt;- function(env, pattern) {\n",
       "  nms &lt;- ls(envir = as.environment(env))\n",
       "  nms &lt;- nms[is.na(match(nms, c(\"F\",\"T\")))] # &lt;-- work around \"checking hack\"\n",
       "  aa &lt;- sapply(nms, function(.) { o &lt;- get(.)\n",
       "               if(is.function(o)) names(formals(o)) })\n",
       "  iw &lt;- sapply(aa, function(a) any(grepl(pattern, a, ignore.case=TRUE)))\n",
       "  aa[iw]\n",
       "}\n",
       "findArgs(\"package:base\", \"warn\")\n",
       "\n",
       "## trim trailing white space\n",
       "str &lt;- \"Now is the time      \"\n",
       "sub(\" +$\", \"\", str)  ## spaces only\n",
       "## what is considered 'white space' depends on the locale.\n",
       "sub(\"[[:space:]]+$\", \"\", str) ## white space, POSIX-style\n",
       "## what PCRE considered white space changed in version 8.34: see ?regex\n",
       "sub(\"\\\\s+$\", \"\", str, perl = TRUE) ## PCRE-style white space\n",
       "\n",
       "## capitalizing\n",
       "txt &lt;- \"a test of capitalizing\"\n",
       "gsub(\"(\\\\w)(\\\\w*)\", \"\\\\U\\\\1\\\\L\\\\2\", txt, perl=TRUE)\n",
       "gsub(\"\\\\b(\\\\w)\",    \"\\\\U\\\\1\",       txt, perl=TRUE)\n",
       "\n",
       "txt2 &lt;- \"useRs may fly into JFK or laGuardia\"\n",
       "gsub(\"(\\\\w)(\\\\w*)(\\\\w)\", \"\\\\U\\\\1\\\\E\\\\2\\\\U\\\\3\", txt2, perl=TRUE)\n",
       " sub(\"(\\\\w)(\\\\w*)(\\\\w)\", \"\\\\U\\\\1\\\\E\\\\2\\\\U\\\\3\", txt2, perl=TRUE)\n",
       "\n",
       "## named capture\n",
       "notables &lt;- c(\"  Ben Franklin and Jefferson Davis\",\n",
       "              \"\\tMillard Fillmore\")\n",
       "# name groups 'first' and 'last'\n",
       "name.rex &lt;- \"(?&lt;first&gt;[[:upper:]][[:lower:]]+) (?&lt;last&gt;[[:upper:]][[:lower:]]+)\"\n",
       "(parsed &lt;- regexpr(name.rex, notables, perl = TRUE))\n",
       "gregexpr(name.rex, notables, perl = TRUE)[[2]]\n",
       "parse.one &lt;- function(res, result) {\n",
       "  m &lt;- do.call(rbind, lapply(seq_along(res), function(i) {\n",
       "    if(result[i] == -1) return(\"\")\n",
       "    st &lt;- attr(result, \"capture.start\")[i, ]\n",
       "    substring(res[i], st, st + attr(result, \"capture.length\")[i, ] - 1)\n",
       "  }))\n",
       "  colnames(m) &lt;- attr(result, \"capture.names\")\n",
       "  m\n",
       "}\n",
       "parse.one(notables, parsed)\n",
       "\n",
       "## Decompose a URL into its components.\n",
       "## Example by LT (http://www.cs.uiowa.edu/~luke/R/regexp.html).\n",
       "x &lt;- \"http://stat.umn.edu:80/xyz\"\n",
       "m &lt;- regexec(\"^(([^:]+)://)?([^:/]+)(:([0-9]+))?(/.*)\", x)\n",
       "m\n",
       "regmatches(x, m)\n",
       "## Element 3 is the protocol, 4 is the host, 6 is the port, and 7\n",
       "## is the path.  We can use this to make a function for extracting the\n",
       "## parts of a URL:\n",
       "URL_parts &lt;- function(x) {\n",
       "    m &lt;- regexec(\"^(([^:]+)://)?([^:/]+)(:([0-9]+))?(/.*)\", x)\n",
       "    parts &lt;- do.call(rbind,\n",
       "                     lapply(regmatches(x, m), `[`, c(3L, 4L, 6L, 7L)))\n",
       "    colnames(parts) &lt;- c(\"protocol\",\"host\",\"port\",\"path\")\n",
       "    parts\n",
       "}\n",
       "URL_parts(x)\n",
       "\n",
       "## There is no gregexec() yet, but one can emulate it by running\n",
       "## regexec() on the regmatches obtained via gregexpr().  E.g.:\n",
       "pattern &lt;- \"([[:alpha:]]+)([[:digit:]]+)\"\n",
       "s &lt;- \"Test: A1 BC23 DEF456\"\n",
       "lapply(regmatches(s, gregexpr(pattern, s)),\n",
       "       function(e) regmatches(e, regexec(pattern, e)))\n",
       "</pre>\n",
       "\n",
       "<hr /><div style=\"text-align: center;\">[Package <em>base</em> version 3.3.1 ]</div>"
      ],
      "text/latex": [
       "\\inputencoding{utf8}\n",
       "\\HeaderA{grep}{Pattern Matching and Replacement}{grep}\n",
       "\\aliasA{gregexpr}{grep}{gregexpr}\n",
       "\\aliasA{grepl}{grep}{grepl}\n",
       "\\aliasA{gsub}{grep}{gsub}\n",
       "\\aliasA{regexec}{grep}{regexec}\n",
       "\\aliasA{regexpr}{grep}{regexpr}\n",
       "\\aliasA{sub}{grep}{sub}\n",
       "\\keyword{character}{grep}\n",
       "\\keyword{utilities}{grep}\n",
       "%\n",
       "\\begin{Description}\\relax\n",
       "\\code{grep}, \\code{grepl}, \\code{regexpr}, \\code{gregexpr} and\n",
       "\\code{regexec} search for matches to argument \\code{pattern} within\n",
       "each element of a character vector: they differ in the format of and\n",
       "amount of detail in the results.\n",
       "\n",
       "\\code{sub} and \\code{gsub} perform replacement of the first and all\n",
       "matches respectively.\n",
       "\\end{Description}\n",
       "%\n",
       "\\begin{Usage}\n",
       "\\begin{verbatim}\n",
       "grep(pattern, x, ignore.case = FALSE, perl = FALSE, value = FALSE,\n",
       "     fixed = FALSE, useBytes = FALSE, invert = FALSE)\n",
       "\n",
       "grepl(pattern, x, ignore.case = FALSE, perl = FALSE,\n",
       "      fixed = FALSE, useBytes = FALSE)\n",
       "\n",
       "sub(pattern, replacement, x, ignore.case = FALSE, perl = FALSE,\n",
       "    fixed = FALSE, useBytes = FALSE)\n",
       "\n",
       "gsub(pattern, replacement, x, ignore.case = FALSE, perl = FALSE,\n",
       "     fixed = FALSE, useBytes = FALSE)\n",
       "\n",
       "regexpr(pattern, text, ignore.case = FALSE, perl = FALSE,\n",
       "        fixed = FALSE, useBytes = FALSE)\n",
       "\n",
       "gregexpr(pattern, text, ignore.case = FALSE, perl = FALSE,\n",
       "         fixed = FALSE, useBytes = FALSE)\n",
       "\n",
       "regexec(pattern, text, ignore.case = FALSE, perl = FALSE,\n",
       "        fixed = FALSE, useBytes = FALSE)\n",
       "\\end{verbatim}\n",
       "\\end{Usage}\n",
       "%\n",
       "\\begin{Arguments}\n",
       "\\begin{ldescription}\n",
       "\\item[\\code{pattern}] character string containing a \\LinkA{regular expression}{regular expression}\n",
       "(or character string for \\code{fixed = TRUE}) to be matched\n",
       "in the given character vector.  Coerced by\n",
       "\\code{\\LinkA{as.character}{as.character}} to a character string if possible.  If a\n",
       "character vector of length 2 or more is supplied, the first element\n",
       "is used with a warning.  Missing values are allowed except for\n",
       "\\code{regexpr} and \\code{gregexpr}.\n",
       "\\item[\\code{x, text}] a character vector where matches are sought, or an\n",
       "object which can be coerced by \\code{as.character} to a character\n",
       "vector.  \\LinkA{Long vectors}{Long vectors} are supported.\n",
       "\\item[\\code{ignore.case}] if \\code{FALSE}, the pattern matching is \\emph{case\n",
       "sensitive} and if \\code{TRUE}, case is ignored during matching.\n",
       "\\item[\\code{perl}] logical.  Should Perl-compatible regexps be used?\n",
       "\\item[\\code{value}] if \\code{FALSE}, a vector containing the (\\code{integer})\n",
       "indices of the matches determined by \\code{grep} is returned, and if\n",
       "\\code{TRUE}, a vector containing the matching elements themselves is\n",
       "returned.\n",
       "\\item[\\code{fixed}] logical.  If \\code{TRUE}, \\code{pattern} is a string to be\n",
       "matched as is.  Overrides all conflicting arguments.\n",
       "\\item[\\code{useBytes}] logical.  If \\code{TRUE} the matching is done\n",
       "byte-by-byte rather than character-by-character.  See\n",
       "`Details'.\n",
       "\\item[\\code{invert}] logical.  If \\code{TRUE} return indices or values for\n",
       "elements that do \\emph{not} match.\n",
       "\\item[\\code{replacement}] a replacement for matched pattern in \\code{sub} and\n",
       "\\code{gsub}.  Coerced to character if possible.  For \\code{fixed =\n",
       "      FALSE} this can include backreferences \\code{\"\\bsl{}1\"} to\n",
       "\\code{\"\\bsl{}9\"} to parenthesized subexpressions of \\code{pattern}.  For\n",
       "\\code{perl = TRUE} only, it can also contain \\code{\"\\bsl{}U\"} or\n",
       "\\code{\"\\bsl{}L\"} to convert the rest of the replacement to upper or\n",
       "lower case and \\code{\"\\bsl{}E\"} to end case conversion.  If a\n",
       "character vector of length 2 or more is supplied, the first element\n",
       "is used with a warning.  If \\code{NA}, all elements in the result\n",
       "corresponding to matches will be set to \\code{NA}.\n",
       "\n",
       "\\end{ldescription}\n",
       "\\end{Arguments}\n",
       "%\n",
       "\\begin{Details}\\relax\n",
       "Arguments which should be character strings or character vectors are\n",
       "coerced to character if possible.\n",
       "\n",
       "Each of these functions (apart from \\code{regexec}, which currently\n",
       "does not support Perl-style regular expressions) operates in one of\n",
       "three modes:\n",
       "\\begin{enumerate}\n",
       "\n",
       "\\item \\code{fixed = TRUE}: use exact matching.\n",
       "\\item \\code{perl = TRUE}: use Perl-style regular expressions.\n",
       "\\item \\code{fixed = FALSE, perl = FALSE}: use POSIX 1003.2\n",
       "extended regular expressions.\n",
       "\n",
       "\\end{enumerate}\n",
       "\n",
       "See the help pages on \\LinkA{regular expression}{regular expression} for details of the\n",
       "different types of regular expressions.\n",
       "\n",
       "The two \\code{*sub} functions differ only in that \\code{sub} replaces\n",
       "only the first occurrence of a \\code{pattern} whereas \\code{gsub}\n",
       "replaces all occurrences.  If \\code{replacement} contains\n",
       "backreferences which are not defined in \\code{pattern} the result is\n",
       "undefined (but most often the backreference is taken to be \\code{\"\"}).\n",
       "\n",
       "For \\code{regexpr}, \\code{gregexpr} and \\code{regexec} it is an error\n",
       "for \\code{pattern} to be \\code{NA}, otherwise \\code{NA} is permitted\n",
       "and gives an \\code{NA} match.\n",
       "\n",
       "The main effect of \\code{useBytes} is to avoid errors/warnings about\n",
       "invalid inputs and spurious matches in multibyte locales, but for\n",
       "\\code{regexpr} it changes the interpretation of the output.\n",
       "It inhibits the conversion of inputs with marked encodings, and is\n",
       "forced if any input is found which is marked as \\code{\"bytes\"}\n",
       "see \\code{\\LinkA{Encoding}{Encoding}}).\n",
       "\n",
       "Caseless matching does not make much sense for bytes in a multibyte\n",
       "locale, and you should expect it only to work for ASCII characters if\n",
       "\\code{useBytes = TRUE}.\n",
       "\n",
       "\\code{regexpr} and \\code{gregexpr} with \\code{perl = TRUE} allow\n",
       "Python-style named captures, but not for \\emph{long vector} inputs.\n",
       "\n",
       "Invalid inputs in the current locale are warned about up to 5 times.\n",
       "\n",
       "Caseless matching with \\code{PERL = TRUE} for non-ASCII characters\n",
       "depends on the PCRE library being compiled with `Unicode\n",
       "property support': an external library might not be.\n",
       "\\end{Details}\n",
       "%\n",
       "\\begin{Value}\n",
       "\\code{grep(value = FALSE)} returns a vector of the indices\n",
       "of the elements of \\code{x} that yielded a match (or not, for\n",
       "\\code{invert = TRUE}.  This will be an integer vector unless the input\n",
       "is a \\emph{long vector}, when it will be a double vector.\n",
       "\n",
       "\\code{grep(value = TRUE)} returns a character vector containing the\n",
       "selected elements of \\code{x} (after coercion, preserving names but no\n",
       "other attributes).\n",
       "\n",
       "\\code{grepl} returns a logical vector (match or not for each element of\n",
       "\\code{x}).\n",
       "\n",
       "For \\code{sub} and \\code{gsub} return a character vector of the same\n",
       "length and with the same attributes as \\code{x} (after possible\n",
       "coercion to character).  Elements of character vectors \\code{x} which\n",
       "are not substituted will be returned unchanged (including any declared\n",
       "encoding).  If \\code{useBytes = FALSE} a non-ASCII substituted result\n",
       "will often be in UTF-8 with a marked encoding (e.g., if there is a\n",
       "UTF-8 input, and in a multibyte locale unless \\code{fixed = TRUE}).\n",
       "Such strings can be re-encoded by \\code{\\LinkA{enc2native}{enc2native}}.\n",
       "\n",
       "\\code{regexpr} returns an integer vector of the same length as\n",
       "\\code{text} giving the starting position of the first match or\n",
       "\\eqn{-1}{} if there is none, with attribute \\code{\"match.length\"}, an\n",
       "integer vector giving the length of the matched text (or \\eqn{-1}{} for\n",
       "no match).  The match positions and lengths are in characters unless\n",
       "\\code{useBytes = TRUE} is used, when they are in bytes.  If named\n",
       "capture is used there are further attributes \\code{\"capture.start\"},\n",
       "\\code{\"capture.length\"} and \\code{\"capture.names\"}.\n",
       "\n",
       "\\code{gregexpr} returns a list of the same length as \\code{text} each\n",
       "element of which is of the same form as the return value for\n",
       "\\code{regexpr}, except that the starting positions of every (disjoint)\n",
       "match are given.\n",
       "\n",
       "\\code{regexec} returns a list of the same length as \\code{text} each\n",
       "element of which is either \\eqn{-1}{} if there is no match, or a\n",
       "sequence of integers with the starting positions of the match and all\n",
       "substrings corresponding to parenthesized subexpressions of\n",
       "\\code{pattern}, with attribute \\code{\"match.length\"} a vector\n",
       "giving the lengths of the matches (or \\eqn{-1}{} for no match).\n",
       "\\end{Value}\n",
       "%\n",
       "\\begin{Section}{Warning}\n",
       "POSIX 1003.2 mode of \\code{gsub} and \\code{gregexpr} does not\n",
       "work correctly with repeated word-boundaries (e.g., \\code{pattern =\n",
       "  \"\\bsl{}b\"}).  Use \\code{perl = TRUE} for such matches (but that may not\n",
       "work as expected with non-ASCII inputs, as the meaning of\n",
       "`word' is system-dependent).\n",
       "\\end{Section}\n",
       "%\n",
       "\\begin{Section}{Performance considerations}\n",
       "If you are doing a lot of regular expression matching, including on\n",
       "very long strings, you will want to consider the options used.\n",
       "Generally PCRE will be faster than the default regular expression\n",
       "engine, and \\code{fixed = TRUE} faster still (especially when each\n",
       "pattern is matched only a few times).\n",
       "\n",
       "If you are working in a single-byte locale and have marked UTF-8\n",
       "strings that are representable in that locale, convert them first as\n",
       "just one UTF-8 string will force all the matching to be done in\n",
       "Unicode, which attracts a penalty of around \\eqn{3\\times{}}{} for\n",
       "the default POSIX 1003.2 mode.\n",
       "\n",
       "If you can make use of \\code{useBytes = TRUE}, the strings will not be\n",
       "checked before matching, and the actual matching will be faster.\n",
       "Often byte-based matching suffices in a UTF-8 locale since byte\n",
       "patterns of one character never match part of another.\n",
       "\\end{Section}\n",
       "%\n",
       "\\begin{Source}\\relax\n",
       "The C code for POSIX-style regular expression matching has changed\n",
       "over the years.  As from \\R{} 2.10.0 the TRE library of Ville Laurikari\n",
       "(\\url{http://laurikari.net/tre/}) is used.  The POSIX standard does\n",
       "give some room for interpretation, especially in the handling of\n",
       "invalid regular expressions and the collation of character ranges, so\n",
       "the results will have changed slightly over the years.\n",
       "\n",
       "For Perl-style matching PCRE (\\url{http://www.pcre.org}) is used.\n",
       "\\end{Source}\n",
       "%\n",
       "\\begin{References}\\relax\n",
       "Becker, R. A., Chambers, J. M. and Wilks, A. R. (1988)\n",
       "\\emph{The New S Language}.\n",
       "Wadsworth \\& Brooks/Cole (\\code{grep})\n",
       "\\end{References}\n",
       "%\n",
       "\\begin{SeeAlso}\\relax\n",
       "\\LinkA{regular expression}{regular expression} (aka \\code{\\LinkA{regexp}{regexp}}) for the details\n",
       "of the pattern specification.\n",
       "\n",
       "\\code{\\LinkA{regmatches}{regmatches}} for extracting matched substrings based on\n",
       "the results of \\code{regexpr}, \\code{gregexpr} and \\code{regexec}.\n",
       "\n",
       "\\code{\\LinkA{glob2rx}{glob2rx}} to turn wildcard matches into regular expressions.\n",
       "\n",
       "\\code{\\LinkA{agrep}{agrep}} for approximate matching.\n",
       "\n",
       "\\code{\\LinkA{charmatch}{charmatch}}, \\code{\\LinkA{pmatch}{pmatch}} for partial matching,\n",
       "\\code{\\LinkA{match}{match}} for matching to whole strings,\n",
       "\\code{\\LinkA{startsWith}{startsWith}} for matching of initial parts of strings.\n",
       "\n",
       "\\code{\\LinkA{tolower}{tolower}}, \\code{\\LinkA{toupper}{toupper}} and \\code{\\LinkA{chartr}{chartr}}\n",
       "for character translations.\n",
       "\n",
       "\\code{\\LinkA{apropos}{apropos}} uses regexps and has more examples.\n",
       "\n",
       "\\code{\\LinkA{grepRaw}{grepRaw}} for matching raw vectors.\n",
       "\\end{SeeAlso}\n",
       "%\n",
       "\\begin{Examples}\n",
       "\\begin{ExampleCode}\n",
       "grep(\"[a-z]\", letters)\n",
       "\n",
       "txt <- c(\"arm\",\"foot\",\"lefroo\", \"bafoobar\")\n",
       "if(length(i <- grep(\"foo\", txt)))\n",
       "   cat(\"'foo' appears at least once in\\n\\t\", txt, \"\\n\")\n",
       "i # 2 and 4\n",
       "txt[i]\n",
       "\n",
       "## Double all 'a' or 'b's;  \"\\\" must be escaped, i.e., 'doubled'\n",
       "gsub(\"([ab])\", \"\\\\1_\\\\1_\", \"abc and ABC\")\n",
       "\n",
       "txt <- c(\"The\", \"licenses\", \"for\", \"most\", \"software\", \"are\",\n",
       "  \"designed\", \"to\", \"take\", \"away\", \"your\", \"freedom\",\n",
       "  \"to\", \"share\", \"and\", \"change\", \"it.\",\n",
       "   \"\", \"By\", \"contrast,\", \"the\", \"GNU\", \"General\", \"Public\", \"License\",\n",
       "   \"is\", \"intended\", \"to\", \"guarantee\", \"your\", \"freedom\", \"to\",\n",
       "   \"share\", \"and\", \"change\", \"free\", \"software\", \"--\",\n",
       "   \"to\", \"make\", \"sure\", \"the\", \"software\", \"is\",\n",
       "   \"free\", \"for\", \"all\", \"its\", \"users\")\n",
       "( i <- grep(\"[gu]\", txt) ) # indices\n",
       "stopifnot( txt[i] == grep(\"[gu]\", txt, value = TRUE) )\n",
       "\n",
       "## Note that in locales such as en_US this includes B as the\n",
       "## collation order is aAbBcCdEe ...\n",
       "(ot <- sub(\"[b-e]\",\".\", txt))\n",
       "txt[ot != gsub(\"[b-e]\",\".\", txt)]#- gsub does \"global\" substitution\n",
       "\n",
       "txt[gsub(\"g\",\"#\", txt) !=\n",
       "    gsub(\"g\",\"#\", txt, ignore.case = TRUE)] # the \"G\" words\n",
       "\n",
       "regexpr(\"en\", txt)\n",
       "\n",
       "gregexpr(\"e\", txt)\n",
       "\n",
       "## Using grepl() for filtering\n",
       "## Find functions with argument names matching \"warn\":\n",
       "findArgs <- function(env, pattern) {\n",
       "  nms <- ls(envir = as.environment(env))\n",
       "  nms <- nms[is.na(match(nms, c(\"F\",\"T\")))] # <-- work around \"checking hack\"\n",
       "  aa <- sapply(nms, function(.) { o <- get(.)\n",
       "               if(is.function(o)) names(formals(o)) })\n",
       "  iw <- sapply(aa, function(a) any(grepl(pattern, a, ignore.case=TRUE)))\n",
       "  aa[iw]\n",
       "}\n",
       "findArgs(\"package:base\", \"warn\")\n",
       "\n",
       "## trim trailing white space\n",
       "str <- \"Now is the time      \"\n",
       "sub(\" +$\", \"\", str)  ## spaces only\n",
       "## what is considered 'white space' depends on the locale.\n",
       "sub(\"[[:space:]]+$\", \"\", str) ## white space, POSIX-style\n",
       "## what PCRE considered white space changed in version 8.34: see ?regex\n",
       "sub(\"\\\\s+$\", \"\", str, perl = TRUE) ## PCRE-style white space\n",
       "\n",
       "## capitalizing\n",
       "txt <- \"a test of capitalizing\"\n",
       "gsub(\"(\\\\w)(\\\\w*)\", \"\\\\U\\\\1\\\\L\\\\2\", txt, perl=TRUE)\n",
       "gsub(\"\\\\b(\\\\w)\",    \"\\\\U\\\\1\",       txt, perl=TRUE)\n",
       "\n",
       "txt2 <- \"useRs may fly into JFK or laGuardia\"\n",
       "gsub(\"(\\\\w)(\\\\w*)(\\\\w)\", \"\\\\U\\\\1\\\\E\\\\2\\\\U\\\\3\", txt2, perl=TRUE)\n",
       " sub(\"(\\\\w)(\\\\w*)(\\\\w)\", \"\\\\U\\\\1\\\\E\\\\2\\\\U\\\\3\", txt2, perl=TRUE)\n",
       "\n",
       "## named capture\n",
       "notables <- c(\"  Ben Franklin and Jefferson Davis\",\n",
       "              \"\\tMillard Fillmore\")\n",
       "# name groups 'first' and 'last'\n",
       "name.rex <- \"(?<first>[[:upper:]][[:lower:]]+) (?<last>[[:upper:]][[:lower:]]+)\"\n",
       "(parsed <- regexpr(name.rex, notables, perl = TRUE))\n",
       "gregexpr(name.rex, notables, perl = TRUE)[[2]]\n",
       "parse.one <- function(res, result) {\n",
       "  m <- do.call(rbind, lapply(seq_along(res), function(i) {\n",
       "    if(result[i] == -1) return(\"\")\n",
       "    st <- attr(result, \"capture.start\")[i, ]\n",
       "    substring(res[i], st, st + attr(result, \"capture.length\")[i, ] - 1)\n",
       "  }))\n",
       "  colnames(m) <- attr(result, \"capture.names\")\n",
       "  m\n",
       "}\n",
       "parse.one(notables, parsed)\n",
       "\n",
       "## Decompose a URL into its components.\n",
       "## Example by LT (http://www.cs.uiowa.edu/~luke/R/regexp.html).\n",
       "x <- \"http://stat.umn.edu:80/xyz\"\n",
       "m <- regexec(\"^(([^:]+)://)?([^:/]+)(:([0-9]+))?(/.*)\", x)\n",
       "m\n",
       "regmatches(x, m)\n",
       "## Element 3 is the protocol, 4 is the host, 6 is the port, and 7\n",
       "## is the path.  We can use this to make a function for extracting the\n",
       "## parts of a URL:\n",
       "URL_parts <- function(x) {\n",
       "    m <- regexec(\"^(([^:]+)://)?([^:/]+)(:([0-9]+))?(/.*)\", x)\n",
       "    parts <- do.call(rbind,\n",
       "                     lapply(regmatches(x, m), `[`, c(3L, 4L, 6L, 7L)))\n",
       "    colnames(parts) <- c(\"protocol\",\"host\",\"port\",\"path\")\n",
       "    parts\n",
       "}\n",
       "URL_parts(x)\n",
       "\n",
       "## There is no gregexec() yet, but one can emulate it by running\n",
       "## regexec() on the regmatches obtained via gregexpr().  E.g.:\n",
       "pattern <- \"([[:alpha:]]+)([[:digit:]]+)\"\n",
       "s <- \"Test: A1 BC23 DEF456\"\n",
       "lapply(regmatches(s, gregexpr(pattern, s)),\n",
       "       function(e) regmatches(e, regexec(pattern, e)))\n",
       "\\end{ExampleCode}\n",
       "\\end{Examples}"
      ],
      "text/plain": [
       "grep                   package:base                    R Documentation\n",
       "\n",
       "_\bP_\ba_\bt_\bt_\be_\br_\bn _\bM_\ba_\bt_\bc_\bh_\bi_\bn_\bg _\ba_\bn_\bd _\bR_\be_\bp_\bl_\ba_\bc_\be_\bm_\be_\bn_\bt\n",
       "\n",
       "_\bD_\be_\bs_\bc_\br_\bi_\bp_\bt_\bi_\bo_\bn:\n",
       "\n",
       "     ‘grep’, ‘grepl’, ‘regexpr’, ‘gregexpr’ and ‘regexec’ search for\n",
       "     matches to argument ‘pattern’ within each element of a character\n",
       "     vector: they differ in the format of and amount of detail in the\n",
       "     results.\n",
       "\n",
       "     ‘sub’ and ‘gsub’ perform replacement of the first and all matches\n",
       "     respectively.\n",
       "\n",
       "_\bU_\bs_\ba_\bg_\be:\n",
       "\n",
       "     grep(pattern, x, ignore.case = FALSE, perl = FALSE, value = FALSE,\n",
       "          fixed = FALSE, useBytes = FALSE, invert = FALSE)\n",
       "     \n",
       "     grepl(pattern, x, ignore.case = FALSE, perl = FALSE,\n",
       "           fixed = FALSE, useBytes = FALSE)\n",
       "     \n",
       "     sub(pattern, replacement, x, ignore.case = FALSE, perl = FALSE,\n",
       "         fixed = FALSE, useBytes = FALSE)\n",
       "     \n",
       "     gsub(pattern, replacement, x, ignore.case = FALSE, perl = FALSE,\n",
       "          fixed = FALSE, useBytes = FALSE)\n",
       "     \n",
       "     regexpr(pattern, text, ignore.case = FALSE, perl = FALSE,\n",
       "             fixed = FALSE, useBytes = FALSE)\n",
       "     \n",
       "     gregexpr(pattern, text, ignore.case = FALSE, perl = FALSE,\n",
       "              fixed = FALSE, useBytes = FALSE)\n",
       "     \n",
       "     regexec(pattern, text, ignore.case = FALSE, perl = FALSE,\n",
       "             fixed = FALSE, useBytes = FALSE)\n",
       "     \n",
       "_\bA_\br_\bg_\bu_\bm_\be_\bn_\bt_\bs:\n",
       "\n",
       " pattern: character string containing a regular expression (or\n",
       "          character string for ‘fixed = TRUE’) to be matched in the\n",
       "          given character vector.  Coerced by ‘as.character’ to a\n",
       "          character string if possible.  If a character vector of\n",
       "          length 2 or more is supplied, the first element is used with\n",
       "          a warning.  Missing values are allowed except for ‘regexpr’\n",
       "          and ‘gregexpr’.\n",
       "\n",
       " x, text: a character vector where matches are sought, or an object\n",
       "          which can be coerced by ‘as.character’ to a character vector.\n",
       "          Long vectors are supported.\n",
       "\n",
       "ignore.case: if ‘FALSE’, the pattern matching is _case sensitive_ and\n",
       "          if ‘TRUE’, case is ignored during matching.\n",
       "\n",
       "    perl: logical.  Should Perl-compatible regexps be used?\n",
       "\n",
       "   value: if ‘FALSE’, a vector containing the (‘integer’) indices of\n",
       "          the matches determined by ‘grep’ is returned, and if ‘TRUE’,\n",
       "          a vector containing the matching elements themselves is\n",
       "          returned.\n",
       "\n",
       "   fixed: logical.  If ‘TRUE’, ‘pattern’ is a string to be matched as\n",
       "          is.  Overrides all conflicting arguments.\n",
       "\n",
       "useBytes: logical.  If ‘TRUE’ the matching is done byte-by-byte rather\n",
       "          than character-by-character.  See ‘Details’.\n",
       "\n",
       "  invert: logical.  If ‘TRUE’ return indices or values for elements\n",
       "          that do _not_ match.\n",
       "\n",
       "replacement: a replacement for matched pattern in ‘sub’ and ‘gsub’.\n",
       "          Coerced to character if possible.  For ‘fixed = FALSE’ this\n",
       "          can include backreferences ‘\"\\1\"’ to ‘\"\\9\"’ to parenthesized\n",
       "          subexpressions of ‘pattern’.  For ‘perl = TRUE’ only, it can\n",
       "          also contain ‘\"\\U\"’ or ‘\"\\L\"’ to convert the rest of the\n",
       "          replacement to upper or lower case and ‘\"\\E\"’ to end case\n",
       "          conversion.  If a character vector of length 2 or more is\n",
       "          supplied, the first element is used with a warning.  If ‘NA’,\n",
       "          all elements in the result corresponding to matches will be\n",
       "          set to ‘NA’.\n",
       "\n",
       "_\bD_\be_\bt_\ba_\bi_\bl_\bs:\n",
       "\n",
       "     Arguments which should be character strings or character vectors\n",
       "     are coerced to character if possible.\n",
       "\n",
       "     Each of these functions (apart from ‘regexec’, which currently\n",
       "     does not support Perl-style regular expressions) operates in one\n",
       "     of three modes:\n",
       "\n",
       "       1. ‘fixed = TRUE’: use exact matching.\n",
       "\n",
       "       2. ‘perl = TRUE’: use Perl-style regular expressions.\n",
       "\n",
       "       3. ‘fixed = FALSE, perl = FALSE’: use POSIX 1003.2 extended\n",
       "          regular expressions.\n",
       "\n",
       "     See the help pages on regular expression for details of the\n",
       "     different types of regular expressions.\n",
       "\n",
       "     The two ‘*sub’ functions differ only in that ‘sub’ replaces only\n",
       "     the first occurrence of a ‘pattern’ whereas ‘gsub’ replaces all\n",
       "     occurrences.  If ‘replacement’ contains backreferences which are\n",
       "     not defined in ‘pattern’ the result is undefined (but most often\n",
       "     the backreference is taken to be ‘\"\"’).\n",
       "\n",
       "     For ‘regexpr’, ‘gregexpr’ and ‘regexec’ it is an error for\n",
       "     ‘pattern’ to be ‘NA’, otherwise ‘NA’ is permitted and gives an\n",
       "     ‘NA’ match.\n",
       "\n",
       "     The main effect of ‘useBytes’ is to avoid errors/warnings about\n",
       "     invalid inputs and spurious matches in multibyte locales, but for\n",
       "     ‘regexpr’ it changes the interpretation of the output.  It\n",
       "     inhibits the conversion of inputs with marked encodings, and is\n",
       "     forced if any input is found which is marked as ‘\"bytes\"’ see\n",
       "     ‘Encoding’).\n",
       "\n",
       "     Caseless matching does not make much sense for bytes in a\n",
       "     multibyte locale, and you should expect it only to work for ASCII\n",
       "     characters if ‘useBytes = TRUE’.\n",
       "\n",
       "     ‘regexpr’ and ‘gregexpr’ with ‘perl = TRUE’ allow Python-style\n",
       "     named captures, but not for _long vector_ inputs.\n",
       "\n",
       "     Invalid inputs in the current locale are warned about up to 5\n",
       "     times.\n",
       "\n",
       "     Caseless matching with ‘PERL = TRUE’ for non-ASCII characters\n",
       "     depends on the PCRE library being compiled with ‘Unicode property\n",
       "     support’: an external library might not be.\n",
       "\n",
       "_\bV_\ba_\bl_\bu_\be:\n",
       "\n",
       "     ‘grep(value = FALSE)’ returns a vector of the indices of the\n",
       "     elements of ‘x’ that yielded a match (or not, for ‘invert = TRUE’.\n",
       "     This will be an integer vector unless the input is a _long\n",
       "     vector_, when it will be a double vector.\n",
       "\n",
       "     ‘grep(value = TRUE)’ returns a character vector containing the\n",
       "     selected elements of ‘x’ (after coercion, preserving names but no\n",
       "     other attributes).\n",
       "\n",
       "     ‘grepl’ returns a logical vector (match or not for each element of\n",
       "     ‘x’).\n",
       "\n",
       "     For ‘sub’ and ‘gsub’ return a character vector of the same length\n",
       "     and with the same attributes as ‘x’ (after possible coercion to\n",
       "     character).  Elements of character vectors ‘x’ which are not\n",
       "     substituted will be returned unchanged (including any declared\n",
       "     encoding).  If ‘useBytes = FALSE’ a non-ASCII substituted result\n",
       "     will often be in UTF-8 with a marked encoding (e.g., if there is a\n",
       "     UTF-8 input, and in a multibyte locale unless ‘fixed = TRUE’).\n",
       "     Such strings can be re-encoded by ‘enc2native’.\n",
       "\n",
       "     ‘regexpr’ returns an integer vector of the same length as ‘text’\n",
       "     giving the starting position of the first match or -1 if there is\n",
       "     none, with attribute ‘\"match.length\"’, an integer vector giving\n",
       "     the length of the matched text (or -1 for no match).  The match\n",
       "     positions and lengths are in characters unless ‘useBytes = TRUE’\n",
       "     is used, when they are in bytes.  If named capture is used there\n",
       "     are further attributes ‘\"capture.start\"’, ‘\"capture.length\"’ and\n",
       "     ‘\"capture.names\"’.\n",
       "\n",
       "     ‘gregexpr’ returns a list of the same length as ‘text’ each\n",
       "     element of which is of the same form as the return value for\n",
       "     ‘regexpr’, except that the starting positions of every (disjoint)\n",
       "     match are given.\n",
       "\n",
       "     ‘regexec’ returns a list of the same length as ‘text’ each element\n",
       "     of which is either -1 if there is no match, or a sequence of\n",
       "     integers with the starting positions of the match and all\n",
       "     substrings corresponding to parenthesized subexpressions of\n",
       "     ‘pattern’, with attribute ‘\"match.length\"’ a vector giving the\n",
       "     lengths of the matches (or -1 for no match).\n",
       "\n",
       "_\bW_\ba_\br_\bn_\bi_\bn_\bg:\n",
       "\n",
       "     POSIX 1003.2 mode of ‘gsub’ and ‘gregexpr’ does not work correctly\n",
       "     with repeated word-boundaries (e.g., ‘pattern = \"\\b\"’).  Use ‘perl\n",
       "     = TRUE’ for such matches (but that may not work as expected with\n",
       "     non-ASCII inputs, as the meaning of ‘word’ is system-dependent).\n",
       "\n",
       "_\bP_\be_\br_\bf_\bo_\br_\bm_\ba_\bn_\bc_\be _\bc_\bo_\bn_\bs_\bi_\bd_\be_\br_\ba_\bt_\bi_\bo_\bn_\bs:\n",
       "\n",
       "     If you are doing a lot of regular expression matching, including\n",
       "     on very long strings, you will want to consider the options used.\n",
       "     Generally PCRE will be faster than the default regular expression\n",
       "     engine, and ‘fixed = TRUE’ faster still (especially when each\n",
       "     pattern is matched only a few times).\n",
       "\n",
       "     If you are working in a single-byte locale and have marked UTF-8\n",
       "     strings that are representable in that locale, convert them first\n",
       "     as just one UTF-8 string will force all the matching to be done in\n",
       "     Unicode, which attracts a penalty of around 3x for the default\n",
       "     POSIX 1003.2 mode.\n",
       "\n",
       "     If you can make use of ‘useBytes = TRUE’, the strings will not be\n",
       "     checked before matching, and the actual matching will be faster.\n",
       "     Often byte-based matching suffices in a UTF-8 locale since byte\n",
       "     patterns of one character never match part of another.\n",
       "\n",
       "_\bS_\bo_\bu_\br_\bc_\be:\n",
       "\n",
       "     The C code for POSIX-style regular expression matching has changed\n",
       "     over the years.  As from R 2.10.0 the TRE library of Ville\n",
       "     Laurikari (<URL: http://laurikari.net/tre/>) is used.  The POSIX\n",
       "     standard does give some room for interpretation, especially in the\n",
       "     handling of invalid regular expressions and the collation of\n",
       "     character ranges, so the results will have changed slightly over\n",
       "     the years.\n",
       "\n",
       "     For Perl-style matching PCRE (<URL: http://www.pcre.org>) is used.\n",
       "\n",
       "_\bR_\be_\bf_\be_\br_\be_\bn_\bc_\be_\bs:\n",
       "\n",
       "     Becker, R. A., Chambers, J. M. and Wilks, A. R. (1988) _The New S\n",
       "     Language_.  Wadsworth & Brooks/Cole (‘grep’)\n",
       "\n",
       "_\bS_\be_\be _\bA_\bl_\bs_\bo:\n",
       "\n",
       "     regular expression (aka ‘regexp’) for the details of the pattern\n",
       "     specification.\n",
       "\n",
       "     ‘regmatches’ for extracting matched substrings based on the\n",
       "     results of ‘regexpr’, ‘gregexpr’ and ‘regexec’.\n",
       "\n",
       "     ‘glob2rx’ to turn wildcard matches into regular expressions.\n",
       "\n",
       "     ‘agrep’ for approximate matching.\n",
       "\n",
       "     ‘charmatch’, ‘pmatch’ for partial matching, ‘match’ for matching\n",
       "     to whole strings, ‘startsWith’ for matching of initial parts of\n",
       "     strings.\n",
       "\n",
       "     ‘tolower’, ‘toupper’ and ‘chartr’ for character translations.\n",
       "\n",
       "     ‘apropos’ uses regexps and has more examples.\n",
       "\n",
       "     ‘grepRaw’ for matching raw vectors.\n",
       "\n",
       "_\bE_\bx_\ba_\bm_\bp_\bl_\be_\bs:\n",
       "\n",
       "     grep(\"[a-z]\", letters)\n",
       "     \n",
       "     txt <- c(\"arm\",\"foot\",\"lefroo\", \"bafoobar\")\n",
       "     if(length(i <- grep(\"foo\", txt)))\n",
       "        cat(\"'foo' appears at least once in\\n\\t\", txt, \"\\n\")\n",
       "     i # 2 and 4\n",
       "     txt[i]\n",
       "     \n",
       "     ## Double all 'a' or 'b's;  \"\\\" must be escaped, i.e., 'doubled'\n",
       "     gsub(\"([ab])\", \"\\\\1_\\\\1_\", \"abc and ABC\")\n",
       "     \n",
       "     txt <- c(\"The\", \"licenses\", \"for\", \"most\", \"software\", \"are\",\n",
       "       \"designed\", \"to\", \"take\", \"away\", \"your\", \"freedom\",\n",
       "       \"to\", \"share\", \"and\", \"change\", \"it.\",\n",
       "        \"\", \"By\", \"contrast,\", \"the\", \"GNU\", \"General\", \"Public\", \"License\",\n",
       "        \"is\", \"intended\", \"to\", \"guarantee\", \"your\", \"freedom\", \"to\",\n",
       "        \"share\", \"and\", \"change\", \"free\", \"software\", \"--\",\n",
       "        \"to\", \"make\", \"sure\", \"the\", \"software\", \"is\",\n",
       "        \"free\", \"for\", \"all\", \"its\", \"users\")\n",
       "     ( i <- grep(\"[gu]\", txt) ) # indices\n",
       "     stopifnot( txt[i] == grep(\"[gu]\", txt, value = TRUE) )\n",
       "     \n",
       "     ## Note that in locales such as en_US this includes B as the\n",
       "     ## collation order is aAbBcCdEe ...\n",
       "     (ot <- sub(\"[b-e]\",\".\", txt))\n",
       "     txt[ot != gsub(\"[b-e]\",\".\", txt)]#- gsub does \"global\" substitution\n",
       "     \n",
       "     txt[gsub(\"g\",\"#\", txt) !=\n",
       "         gsub(\"g\",\"#\", txt, ignore.case = TRUE)] # the \"G\" words\n",
       "     \n",
       "     regexpr(\"en\", txt)\n",
       "     \n",
       "     gregexpr(\"e\", txt)\n",
       "     \n",
       "     ## Using grepl() for filtering\n",
       "     ## Find functions with argument names matching \"warn\":\n",
       "     findArgs <- function(env, pattern) {\n",
       "       nms <- ls(envir = as.environment(env))\n",
       "       nms <- nms[is.na(match(nms, c(\"F\",\"T\")))] # <-- work around \"checking hack\"\n",
       "       aa <- sapply(nms, function(.) { o <- get(.)\n",
       "                    if(is.function(o)) names(formals(o)) })\n",
       "       iw <- sapply(aa, function(a) any(grepl(pattern, a, ignore.case=TRUE)))\n",
       "       aa[iw]\n",
       "     }\n",
       "     findArgs(\"package:base\", \"warn\")\n",
       "     \n",
       "     ## trim trailing white space\n",
       "     str <- \"Now is the time      \"\n",
       "     sub(\" +$\", \"\", str)  ## spaces only\n",
       "     ## what is considered 'white space' depends on the locale.\n",
       "     sub(\"[[:space:]]+$\", \"\", str) ## white space, POSIX-style\n",
       "     ## what PCRE considered white space changed in version 8.34: see ?regex\n",
       "     sub(\"\\\\s+$\", \"\", str, perl = TRUE) ## PCRE-style white space\n",
       "     \n",
       "     ## capitalizing\n",
       "     txt <- \"a test of capitalizing\"\n",
       "     gsub(\"(\\\\w)(\\\\w*)\", \"\\\\U\\\\1\\\\L\\\\2\", txt, perl=TRUE)\n",
       "     gsub(\"\\\\b(\\\\w)\",    \"\\\\U\\\\1\",       txt, perl=TRUE)\n",
       "     \n",
       "     txt2 <- \"useRs may fly into JFK or laGuardia\"\n",
       "     gsub(\"(\\\\w)(\\\\w*)(\\\\w)\", \"\\\\U\\\\1\\\\E\\\\2\\\\U\\\\3\", txt2, perl=TRUE)\n",
       "      sub(\"(\\\\w)(\\\\w*)(\\\\w)\", \"\\\\U\\\\1\\\\E\\\\2\\\\U\\\\3\", txt2, perl=TRUE)\n",
       "     \n",
       "     ## named capture\n",
       "     notables <- c(\"  Ben Franklin and Jefferson Davis\",\n",
       "                   \"\\tMillard Fillmore\")\n",
       "     # name groups 'first' and 'last'\n",
       "     name.rex <- \"(?<first>[[:upper:]][[:lower:]]+) (?<last>[[:upper:]][[:lower:]]+)\"\n",
       "     (parsed <- regexpr(name.rex, notables, perl = TRUE))\n",
       "     gregexpr(name.rex, notables, perl = TRUE)[[2]]\n",
       "     parse.one <- function(res, result) {\n",
       "       m <- do.call(rbind, lapply(seq_along(res), function(i) {\n",
       "         if(result[i] == -1) return(\"\")\n",
       "         st <- attr(result, \"capture.start\")[i, ]\n",
       "         substring(res[i], st, st + attr(result, \"capture.length\")[i, ] - 1)\n",
       "       }))\n",
       "       colnames(m) <- attr(result, \"capture.names\")\n",
       "       m\n",
       "     }\n",
       "     parse.one(notables, parsed)\n",
       "     \n",
       "     ## Decompose a URL into its components.\n",
       "     ## Example by LT (http://www.cs.uiowa.edu/~luke/R/regexp.html).\n",
       "     x <- \"http://stat.umn.edu:80/xyz\"\n",
       "     m <- regexec(\"^(([^:]+)://)?([^:/]+)(:([0-9]+))?(/.*)\", x)\n",
       "     m\n",
       "     regmatches(x, m)\n",
       "     ## Element 3 is the protocol, 4 is the host, 6 is the port, and 7\n",
       "     ## is the path.  We can use this to make a function for extracting the\n",
       "     ## parts of a URL:\n",
       "     URL_parts <- function(x) {\n",
       "         m <- regexec(\"^(([^:]+)://)?([^:/]+)(:([0-9]+))?(/.*)\", x)\n",
       "         parts <- do.call(rbind,\n",
       "                          lapply(regmatches(x, m), `[`, c(3L, 4L, 6L, 7L)))\n",
       "         colnames(parts) <- c(\"protocol\",\"host\",\"port\",\"path\")\n",
       "         parts\n",
       "     }\n",
       "     URL_parts(x)\n",
       "     \n",
       "     ## There is no gregexec() yet, but one can emulate it by running\n",
       "     ## regexec() on the regmatches obtained via gregexpr().  E.g.:\n",
       "     pattern <- \"([[:alpha:]]+)([[:digit:]]+)\"\n",
       "     s <- \"Test: A1 BC23 DEF456\"\n",
       "     lapply(regmatches(s, gregexpr(pattern, s)),\n",
       "            function(e) regmatches(e, regexec(pattern, e)))\n",
       "     "
      ]
     },
     "metadata": {},
     "output_type": "display_data"
    }
   ],
   "source": [
    "?grep"
   ]
  },
  {
   "cell_type": "markdown",
   "metadata": {},
   "source": [
    "But the custom function that just wraps around `grep` does not have a help entry:"
   ]
  },
  {
   "cell_type": "code",
   "execution_count": 18,
   "metadata": {
    "collapsed": false
   },
   "outputs": [
    {
     "data": {
      "text/html": [
       "No documentation for ‘whereis’ in specified packages and libraries:\n",
       "you could try ‘??whereis’"
      ],
      "text/latex": [
       "No documentation for ‘whereis’ in specified packages and libraries:\n",
       "you could try ‘??whereis’"
      ],
      "text/plain": [
       "No documentation for ‘whereis’ in specified packages and libraries:\n",
       "you could try ‘??whereis’"
      ]
     },
     "metadata": {},
     "output_type": "display_data"
    }
   ],
   "source": [
    "# This returns nothing\n",
    "?whereis"
   ]
  },
  {
   "cell_type": "markdown",
   "metadata": {
    "collapsed": false
   },
   "source": [
    "To fix this we should provide documentation, not only for others but for yourself when you come back in 3 months and try to understand your own code. The syntax for our documentation will follow that for `roxygen`, a package we'll look at later in the course. For now, just blindly follow my lead:"
   ]
  },
  {
   "cell_type": "code",
   "execution_count": 20,
   "metadata": {
    "collapsed": false
   },
   "outputs": [
    {
     "data": {
      "text/html": [
       "1"
      ],
      "text/latex": [
       "1"
      ],
      "text/markdown": [
       "1"
      ],
      "text/plain": [
       "[1] 1"
      ]
     },
     "metadata": {},
     "output_type": "display_data"
    }
   ],
   "source": [
    "#' The first entry containing a letter or word.\n",
    "#'\n",
    "#' @param pattern String: a pattern to search for\n",
    "#' @param word String: a string in which to search\n",
    "#' @return The index to the first occurence of pattern in word.\n",
    "#' @seealso \\code{\\link{grep}} which this function wraps\n",
    "#' @export\n",
    "whereis <- function(pattern, word){\n",
    "    return(grep(pattern, word))\n",
    "}\n",
    "whereis('I', 'Im lostI')"
   ]
  },
  {
   "cell_type": "markdown",
   "metadata": {},
   "source": [
    "Later we will use this data to generate help documentation automatically. For the rest of today, we'll leave the documentation aside, but you should document **everything** you do. It is good practice and just takes a copy and paste with some editing."
   ]
  },
  {
   "cell_type": "markdown",
   "metadata": {},
   "source": [
    "## A Slightly More Complicated Function\n",
    "Let's look back to our Monte Carlo estimate. Our over all goal is to write a function to calculate this from start to finish, but we can consider it a series of subproblems:\n",
    "\n",
    "2. Take in user input about the problem.\n",
    "1. Generate a random sample.\n",
    "3. Sum up the realizations.\n",
    "4. Divide by the number of realizations.\n",
    "5. Output the results.\n",
    "\n",
    "Although we may not need all of these steps, let's take one of them as an example: summation.\n",
    "\n",
    "How can we write a function that, given a series of numbers (in our case this will simply be a vector), calculates the sum of the entries? Let's first try to do this outside of a function:"
   ]
  },
  {
   "cell_type": "code",
   "execution_count": 4,
   "metadata": {
    "collapsed": false
   },
   "outputs": [
    {
     "name": "stdout",
     "output_type": "stream",
     "text": [
      " [1] 1 1 1 1 1 1 1 1 1 1\n",
      "[1] 10\n",
      "[1] 10\n",
      "[1] 10\n",
      "[1] 10\n"
     ]
    }
   ],
   "source": [
    "# Define a vector to sum.\n",
    "x <- rep(1, 10)\n",
    "print(x)\n",
    "\n",
    "# There are several ways to calculate the sum.\n",
    "summation <- 0\n",
    "for(i in 1:length(x)){\n",
    "    summation <- summation + x[i]\n",
    "}\n",
    "print(summation)\n",
    "\n",
    "summation <- 0\n",
    "i <- 1\n",
    "while(i <= length(x)){\n",
    "    summation <- summation + x[i]\n",
    "    i <- i + 1\n",
    "}\n",
    "print(summation)\n",
    "\n",
    "summation <- 0\n",
    "for(i in x){\n",
    "    summation <- summation + i\n",
    "}\n",
    "print(summation)\n",
    "\n",
    "print(sum(x))"
   ]
  },
  {
   "cell_type": "markdown",
   "metadata": {},
   "source": [
    "For now I don't care what method you choose, but be aware of the differences between these three and note that they are not all equal: one is **much** faster than the others. Do you know which?\n",
    "\n",
    "Let's wrap one of our loops in a function and we'll check:"
   ]
  },
  {
   "cell_type": "code",
   "execution_count": 1,
   "metadata": {
    "collapsed": false
   },
   "outputs": [
    {
     "data": {
      "text/plain": [
       "   user  system elapsed \n",
       "  0.004   0.000   0.005 "
      ]
     },
     "metadata": {},
     "output_type": "display_data"
    },
    {
     "data": {
      "text/plain": [
       "   user  system elapsed \n",
       "  0.408   0.000   0.409 "
      ]
     },
     "metadata": {},
     "output_type": "display_data"
    }
   ],
   "source": [
    "our_sum <- function(x){\n",
    "    summation <- 0\n",
    "    for(i in x){\n",
    "        summation <- summation + i\n",
    "    }\n",
    "    return(summation)\n",
    "}\n",
    "\n",
    "x <- rep(1, 1000000)\n",
    "\n",
    "system.time(sum(x))\n",
    "system.time(our_sum(x))"
   ]
  },
  {
   "cell_type": "markdown",
   "metadata": {},
   "source": [
    "We won't get into why this is so much slower, but we will cover it later in the course. For now, know that any built in functions (in particular native functions) will be faster than your own attempts.\n",
    "\n",
    "![we are worms](waynes_world.png)"
   ]
  },
  {
   "cell_type": "markdown",
   "metadata": {},
   "source": [
    "## Data Types, Arguments, and Name Spaces\n",
    "Now that we see how to create a function, how to time our function, and understand that the programmers who created R are our superiors in every way (well, at least in terms of speed), we need to consider what goes into our functions.\n",
    "\n",
    "Let's look at our summation loop function again:"
   ]
  },
  {
   "cell_type": "code",
   "execution_count": 19,
   "metadata": {
    "collapsed": true
   },
   "outputs": [],
   "source": [
    "our_sum <- function(x){\n",
    "    summation <- 0\n",
    "    for(i in x){\n",
    "        summation <- summation + i\n",
    "    }\n",
    "    return(summation)\n",
    "}"
   ]
  },
  {
   "cell_type": "markdown",
   "metadata": {},
   "source": [
    "We've written a function for a specific purpose, to add up all the entries in a vector, but what if someone else comes along and tries to use this function for something else? Can they?\n",
    "\n",
    "This question is related to **data types**. The data type refers to what is the type of the object, for example: "
   ]
  },
  {
   "cell_type": "code",
   "execution_count": 25,
   "metadata": {
    "collapsed": false
   },
   "outputs": [
    {
     "data": {
      "text/html": [
       "'double'"
      ],
      "text/latex": [
       "'double'"
      ],
      "text/markdown": [
       "'double'"
      ],
      "text/plain": [
       "[1] \"double\""
      ]
     },
     "metadata": {},
     "output_type": "display_data"
    },
    {
     "data": {
      "text/html": [
       "'double'"
      ],
      "text/latex": [
       "'double'"
      ],
      "text/markdown": [
       "'double'"
      ],
      "text/plain": [
       "[1] \"double\""
      ]
     },
     "metadata": {},
     "output_type": "display_data"
    },
    {
     "data": {
      "text/html": [
       "'character'"
      ],
      "text/latex": [
       "'character'"
      ],
      "text/markdown": [
       "'character'"
      ],
      "text/plain": [
       "[1] \"character\""
      ]
     },
     "metadata": {},
     "output_type": "display_data"
    },
    {
     "data": {
      "text/html": [
       "'logical'"
      ],
      "text/latex": [
       "'logical'"
      ],
      "text/markdown": [
       "'logical'"
      ],
      "text/plain": [
       "[1] \"logical\""
      ]
     },
     "metadata": {},
     "output_type": "display_data"
    }
   ],
   "source": [
    "typeof(1)\n",
    "typeof(c(1, 2))\n",
    "typeof('a string')\n",
    "typeof(TRUE)"
   ]
  },
  {
   "cell_type": "markdown",
   "metadata": {},
   "source": [
    "The type is important, because our function might not be able to add entries in a string or a boolean:"
   ]
  },
  {
   "cell_type": "code",
   "execution_count": 29,
   "metadata": {
    "collapsed": false
   },
   "outputs": [
    {
     "data": {
      "text/html": [
       "2"
      ],
      "text/latex": [
       "2"
      ],
      "text/markdown": [
       "2"
      ],
      "text/plain": [
       "[1] 2"
      ]
     },
     "metadata": {},
     "output_type": "display_data"
    },
    {
     "ename": "ERROR",
     "evalue": "Error in summation + i: non-numeric argument to binary operator\n",
     "output_type": "error",
     "traceback": [
      "Error in summation + i: non-numeric argument to binary operator\nTraceback:\n",
      "1. our_sum(\"a string\")"
     ]
    }
   ],
   "source": [
    "our_sum(c(TRUE, FALSE, TRUE))\n",
    "our_sum('a string')"
   ]
  },
  {
   "cell_type": "markdown",
   "metadata": {},
   "source": [
    "In fact, it can add booleans, but not strings! It is important to keep in mind the data type that your function is designed to handle in order to predict its behavior should you make a mistake. If you pass a string by accident, you will get an error, but if you pass a vector of booleans by accident, your program will continue to run."
   ]
  },
  {
   "cell_type": "markdown",
   "metadata": {},
   "source": [
    "Another thing to consider is the arguments that go into a function. These are the actual variables and take on three types (for now...):\n",
    "\n",
    "1. **Positional Arguments** - These are arguments that must be entered in the correct order and must be specified by the user.\n",
    "2. **Keyword Arguments** - These are arguments which are specified based on their name.\n",
    "3. **Default Arguments** - These are given a default value in the function definition.\n",
    "\n",
    "Let's take a look at all of these different types of arguments in a new example function. Sticking with Monte Carlo, let's write a function that takes in a number of samples and a distribution function and returns a vector of random numbers (there are already functions that do this, but this is pedagogical):"
   ]
  },
  {
   "cell_type": "code",
   "execution_count": 4,
   "metadata": {
    "collapsed": false
   },
   "outputs": [],
   "source": [
    "rand_sample <- function(n, F_inv=function(x) x){\n",
    "    unif_sample <- runif(n)\n",
    "    return(F_inv(unif_sample))\n",
    "}"
   ]
  },
  {
   "cell_type": "markdown",
   "metadata": {},
   "source": [
    "**Before we move on, can you answer these questions?**\n",
    "> What is this function doing (as in what is the statistical transformation called)?\n",
    "\n",
    "> What is `f_inv`, in a statistical/mathematical sense?\n",
    "\n",
    "This information is exactly what you should put in the documentation.\n",
    "\n",
    "Ok, back to arguments. Here `n` is a positional argument and `f_inv` a default argument. We can also refer to `n` as a keyword argument and `f_inv` as a positional argument. Let's see some examples: "
   ]
  },
  {
   "cell_type": "code",
   "execution_count": 7,
   "metadata": {
    "collapsed": false
   },
   "outputs": [
    {
     "data": {
      "text/html": [
       "<ol class=list-inline>\n",
       "\t<li>0.340137215098366</li>\n",
       "\t<li>0.149120141286403</li>\n",
       "\t<li>0.218049251940101</li>\n",
       "\t<li>0.0317989273462445</li>\n",
       "\t<li>0.380472360178828</li>\n",
       "</ol>\n"
      ],
      "text/latex": [
       "\\begin{enumerate*}\n",
       "\\item 0.340137215098366\n",
       "\\item 0.149120141286403\n",
       "\\item 0.218049251940101\n",
       "\\item 0.0317989273462445\n",
       "\\item 0.380472360178828\n",
       "\\end{enumerate*}\n"
      ],
      "text/markdown": [
       "1. 0.340137215098366\n",
       "2. 0.149120141286403\n",
       "3. 0.218049251940101\n",
       "4. 0.0317989273462445\n",
       "5. 0.380472360178828\n",
       "\n",
       "\n"
      ],
      "text/plain": [
       "[1] 0.34013722 0.14912014 0.21804925 0.03179893 0.38047236"
      ]
     },
     "metadata": {},
     "output_type": "display_data"
    },
    {
     "data": {
      "text/html": [
       "<ol class=list-inline>\n",
       "\t<li>8.99163572583348</li>\n",
       "\t<li>3.15401809522882</li>\n",
       "\t<li>7.37238696077839</li>\n",
       "\t<li>8.91720996703953</li>\n",
       "\t<li>1.88692002324387</li>\n",
       "</ol>\n"
      ],
      "text/latex": [
       "\\begin{enumerate*}\n",
       "\\item 8.99163572583348\n",
       "\\item 3.15401809522882\n",
       "\\item 7.37238696077839\n",
       "\\item 8.91720996703953\n",
       "\\item 1.88692002324387\n",
       "\\end{enumerate*}\n"
      ],
      "text/markdown": [
       "1. 8.99163572583348\n",
       "2. 3.15401809522882\n",
       "3. 7.37238696077839\n",
       "4. 8.91720996703953\n",
       "5. 1.88692002324387\n",
       "\n",
       "\n"
      ],
      "text/plain": [
       "[1] 8.991636 3.154018 7.372387 8.917210 1.886920"
      ]
     },
     "metadata": {},
     "output_type": "display_data"
    },
    {
     "data": {
      "text/html": [
       "<ol class=list-inline>\n",
       "\t<li>0.289582766126841</li>\n",
       "\t<li>0.109586201841012</li>\n",
       "\t<li>0.206613213988021</li>\n",
       "\t<li>0.210265268571675</li>\n",
       "\t<li>0.352987953694537</li>\n",
       "</ol>\n"
      ],
      "text/latex": [
       "\\begin{enumerate*}\n",
       "\\item 0.289582766126841\n",
       "\\item 0.109586201841012\n",
       "\\item 0.206613213988021\n",
       "\\item 0.210265268571675\n",
       "\\item 0.352987953694537\n",
       "\\end{enumerate*}\n"
      ],
      "text/markdown": [
       "1. 0.289582766126841\n",
       "2. 0.109586201841012\n",
       "3. 0.206613213988021\n",
       "4. 0.210265268571675\n",
       "5. 0.352987953694537\n",
       "\n",
       "\n"
      ],
      "text/plain": [
       "[1] 0.2895828 0.1095862 0.2066132 0.2102653 0.3529880"
      ]
     },
     "metadata": {},
     "output_type": "display_data"
    },
    {
     "data": {
      "text/html": [
       "<ol class=list-inline>\n",
       "\t<li>6.33507112506777</li>\n",
       "\t<li>9.51558387139812</li>\n",
       "\t<li>5.24397934554145</li>\n",
       "\t<li>3.63716278458014</li>\n",
       "\t<li>4.6161896828562</li>\n",
       "</ol>\n"
      ],
      "text/latex": [
       "\\begin{enumerate*}\n",
       "\\item 6.33507112506777\n",
       "\\item 9.51558387139812\n",
       "\\item 5.24397934554145\n",
       "\\item 3.63716278458014\n",
       "\\item 4.6161896828562\n",
       "\\end{enumerate*}\n"
      ],
      "text/markdown": [
       "1. 6.33507112506777\n",
       "2. 9.51558387139812\n",
       "3. 5.24397934554145\n",
       "4. 3.63716278458014\n",
       "5. 4.6161896828562\n",
       "\n",
       "\n"
      ],
      "text/plain": [
       "[1] 6.335071 9.515584 5.243979 3.637163 4.616190"
      ]
     },
     "metadata": {},
     "output_type": "display_data"
    }
   ],
   "source": [
    "# Simply calling the function\n",
    "rand_sample(5)\n",
    "\n",
    "# Calling the function with a new distribution\n",
    "F_inv_unif <- function(x, a, b) x*(b - a) + a\n",
    "rand_sample(5, F_inv=function(x) F_inv_unif(x, 0, 10))\n",
    "    \n",
    "# Letting n be a keyword argument\n",
    "rand_sample(n=5)\n",
    "\n",
    "# Letting both arguments be positional\n",
    "rand_sample(5, function(x) F_inv_unif(x, 0, 10))"
   ]
  },
  {
   "cell_type": "markdown",
   "metadata": {},
   "source": [
    "These points are more semantics now, but it is useful to understand how to discuss these issues. At some point soon you will get stuck and go to Stack Exchange to ask questions, so you better know what they mean!\n",
    "\n",
    "Now we should consider what's called the **namespace**. This is the hypothetical space in which your variables live. Not all namespaces are equal and variables defined in different namespaces have different **scope**, which refers to how far they reach in the program.\n",
    "\n",
    "Let's see an example of how the **global namespace** and the **function namespace** differ:"
   ]
  },
  {
   "cell_type": "code",
   "execution_count": null,
   "metadata": {
    "collapsed": false
   },
   "outputs": [],
   "source": [
    "test_function <- function(x){\n",
    "    # A variable that only lives within the function\n",
    "    func_var <- 'Im local'\n",
    "    print(func_var)\n",
    "}\n",
    "test_function(1.0)\n",
    "# Trying to call the variable func_var throws an error\n",
    "func_var"
   ]
  },
  {
   "cell_type": "markdown",
   "metadata": {},
   "source": [
    "The variable `func_var` is said to be a **local variable**, that is it only lives locally in the function's namespace.\n",
    "\n",
    "We can also try to reference a **global variable**, which lives in the global namespace, from within a function. However, we will get a different result:"
   ]
  },
  {
   "cell_type": "code",
   "execution_count": 18,
   "metadata": {
    "collapsed": false
   },
   "outputs": [
    {
     "name": "stdout",
     "output_type": "stream",
     "text": [
      "[1] \"Im global\"\n"
     ]
    }
   ],
   "source": [
    "# A variable that lives in the global namespace\n",
    "glob_var <- 'Im global'\n",
    "test_function <- function(x){\n",
    "    # Trying to call a global variable from within a function\n",
    "    print(glob_var)\n",
    "}\n",
    "test_function(1.0)"
   ]
  },
  {
   "cell_type": "markdown",
   "metadata": {},
   "source": [
    "This is because the scope of global variables is larger than that of local variables (hence the name). However, you should be careful when modifying global variables within a function:"
   ]
  },
  {
   "cell_type": "code",
   "execution_count": 21,
   "metadata": {
    "collapsed": false
   },
   "outputs": [
    {
     "name": "stdout",
     "output_type": "stream",
     "text": [
      "[1] \"Im global\"\n",
      "[1] \"I'm modified.\"\n",
      "[1] \"Im global\"\n"
     ]
    }
   ],
   "source": [
    "# A variable that lives in the global namespace\n",
    "glob_var <- 'Im global'\n",
    "test_function <- function(x){\n",
    "    # Trying to call a global variable from within a function\n",
    "    print(glob_var)\n",
    "    glob_var <- \"I'm modified.\"\n",
    "    print(glob_var)\n",
    "}\n",
    "test_function(1.0)\n",
    "print(glob_var)"
   ]
  },
  {
   "cell_type": "markdown",
   "metadata": {},
   "source": [
    "It is possible to modify global variables from within a function, but this is **bad form**. I hate it so much, I'm not even going to tell you how to do it. In fact, I don't even know how to do it, so don't ask! If you want to go around modifying global variables, that's your own choice, but I won't help you.\n",
    "\n",
    "They're so bad there are even memes about it:\n",
    "\n",
    "![global kitten](globals.jpg)"
   ]
  },
  {
   "cell_type": "markdown",
   "metadata": {},
   "source": [
    "The key thing to keep in mind is that a local namespace contains only variables defined within a function. You should pass variables between functions as arguments, lists of arguments, or as variable-length arguments (which we will not cover today)."
   ]
  },
  {
   "cell_type": "markdown",
   "metadata": {},
   "source": [
    "## Nesting Functions\n",
    "Now that we understand how to define functions, how to pass them different types of arguments, and how to manage the namespaces of our functions, let's think about more complex functions.\n",
    "\n",
    "Good programming form is to define functions for very simple operations and then **nest** them. Nesting functions refers to wrapping functions around eachother, like a nested doll.\n",
    "\n",
    "![nested doll](nested.jpg)\n",
    "\n",
    "You do this every time you call a built in function within your own functions. Let's write a function that runs a monte carlo simultion for the mean of a random variable, using our functions already written:"
   ]
  },
  {
   "cell_type": "code",
   "execution_count": 22,
   "metadata": {
    "collapsed": true
   },
   "outputs": [],
   "source": [
    "rand_sample <- function(n, F_inv=function(x) x){\n",
    "    unif_sample <- runif(n)\n",
    "    return(F_inv(unif_sample))\n",
    "}"
   ]
  },
  {
   "cell_type": "code",
   "execution_count": 24,
   "metadata": {
    "collapsed": true
   },
   "outputs": [],
   "source": [
    "mc_mean <- function(n, F_inv=function(x) x){\n",
    "    sample <- rand_sample(n, F_inv=function(x) F_inv(x))\n",
    "    return(sum(sample)/n)\n",
    "}"
   ]
  },
  {
   "cell_type": "code",
   "execution_count": 28,
   "metadata": {
    "collapsed": false
   },
   "outputs": [
    {
     "data": {
      "text/html": [
       "0.855511941947043"
      ],
      "text/latex": [
       "0.855511941947043"
      ],
      "text/markdown": [
       "0.855511941947043"
      ],
      "text/plain": [
       "[1] 0.8555119"
      ]
     },
     "metadata": {},
     "output_type": "display_data"
    },
    {
     "data": {
      "text/html": [
       "0.371524339378811"
      ],
      "text/latex": [
       "0.371524339378811"
      ],
      "text/markdown": [
       "0.371524339378811"
      ],
      "text/plain": [
       "[1] 0.3715243"
      ]
     },
     "metadata": {},
     "output_type": "display_data"
    },
    {
     "data": {
      "text/html": [
       "0.48397883528145"
      ],
      "text/latex": [
       "0.48397883528145"
      ],
      "text/markdown": [
       "0.48397883528145"
      ],
      "text/plain": [
       "[1] 0.4839788"
      ]
     },
     "metadata": {},
     "output_type": "display_data"
    },
    {
     "data": {
      "text/html": [
       "0.51149898652127"
      ],
      "text/latex": [
       "0.51149898652127"
      ],
      "text/markdown": [
       "0.51149898652127"
      ],
      "text/plain": [
       "[1] 0.511499"
      ]
     },
     "metadata": {},
     "output_type": "display_data"
    },
    {
     "data": {
      "text/html": [
       "0.495807038369193"
      ],
      "text/latex": [
       "0.495807038369193"
      ],
      "text/markdown": [
       "0.495807038369193"
      ],
      "text/plain": [
       "[1] 0.495807"
      ]
     },
     "metadata": {},
     "output_type": "display_data"
    }
   ],
   "source": [
    "mc_mean(1)\n",
    "mc_mean(10)\n",
    "mc_mean(100)\n",
    "mc_mean(1000)\n",
    "mc_mean(10000)"
   ]
  },
  {
   "cell_type": "markdown",
   "metadata": {},
   "source": [
    "That's it! We've nested the `rand_sample` and `sum` functions inside of `mc_mean`! We could take this a step further and nest the `mc_mean` function inside of another function to plot its results for different values of `n`. This will show the convergence of our estimator:"
   ]
  },
  {
   "cell_type": "code",
   "execution_count": 64,
   "metadata": {
    "collapsed": false
   },
   "outputs": [],
   "source": [
    "plot_results <- function(n_vec, F_inv=function(x) x){\n",
    "    results <- rep(0, length(n_vec))\n",
    "    i <- 1\n",
    "    for(n in n_vec){\n",
    "        results[i] <- mc_mean(n)\n",
    "        i <- i + 1\n",
    "    }\n",
    "    plot(n_vec, results, type=\"l\")\n",
    "}"
   ]
  },
  {
   "cell_type": "code",
   "execution_count": 70,
   "metadata": {
    "collapsed": false,
    "scrolled": true
   },
   "outputs": [
    {
     "data": {
      "image/png": "[encoded data removed]",
      "image/svg+xml": [
       "<?xml version=\"1.0\" encoding=\"UTF-8\"?>\n",
       "<svg xmlns=\"http://www.w3.org/2000/svg\" xmlns:xlink=\"http://www.w3.org/1999/xlink\" width=\"504pt\" height=\"504pt\" viewBox=\"0 0 504 504\" version=\"1.1\">\n",
       "<defs>\n",
       "<g>\n",
       "<symbol overflow=\"visible\" id=\"glyph0-0\">\n",
       "<path style=\"stroke:none;\" d=\"\"/>\n",
       "</symbol>\n",
       "<symbol overflow=\"visible\" id=\"glyph0-1\">\n",
       "<path style=\"stroke:none;\" d=\"M 6.078125 -4.09375 C 6.078125 -7.046875 5.140625 -8.515625 3.296875 -8.515625 C 1.46875 -8.515625 0.515625 -7.015625 0.515625 -4.15625 C 0.515625 -1.296875 1.46875 0.1875 3.296875 0.1875 C 5.09375 0.1875 6.078125 -1.296875 6.078125 -4.09375 Z M 5 -4.1875 C 5 -1.78125 4.453125 -0.703125 3.28125 -0.703125 C 2.15625 -0.703125 1.59375 -1.828125 1.59375 -4.15625 C 1.59375 -6.484375 2.15625 -7.578125 3.296875 -7.578125 C 4.4375 -7.578125 5 -6.46875 5 -4.1875 Z \"/>\n",
       "</symbol>\n",
       "<symbol overflow=\"visible\" id=\"glyph0-2\">\n",
       "<path style=\"stroke:none;\" d=\"M 6.125 -6.015625 C 6.125 -7.453125 5.015625 -8.515625 3.40625 -8.515625 C 1.671875 -8.515625 0.65625 -7.625 0.59375 -5.5625 L 1.65625 -5.5625 C 1.734375 -6.984375 2.328125 -7.578125 3.375 -7.578125 C 4.328125 -7.578125 5.046875 -6.90625 5.046875 -5.984375 C 5.046875 -5.3125 4.65625 -4.734375 3.90625 -4.3125 L 2.796875 -3.6875 C 1.015625 -2.671875 0.5 -1.875 0.40625 0 L 6.078125 0 L 6.078125 -1.046875 L 1.59375 -1.046875 C 1.703125 -1.734375 2.09375 -2.1875 3.125 -2.796875 L 4.328125 -3.4375 C 5.515625 -4.078125 6.125 -4.96875 6.125 -6.015625 Z \"/>\n",
       "</symbol>\n",
       "<symbol overflow=\"visible\" id=\"glyph0-3\">\n",
       "<path style=\"stroke:none;\" d=\"M 6.234375 -2.046875 L 6.234375 -2.984375 L 4.984375 -2.984375 L 4.984375 -8.515625 L 4.203125 -8.515625 L 0.34375 -3.15625 L 0.34375 -2.046875 L 3.921875 -2.046875 L 3.921875 0 L 4.984375 0 L 4.984375 -2.046875 Z M 3.921875 -2.984375 L 1.265625 -2.984375 L 3.921875 -6.703125 Z \"/>\n",
       "</symbol>\n",
       "<symbol overflow=\"visible\" id=\"glyph0-4\">\n",
       "<path style=\"stroke:none;\" d=\"M 6.15625 -2.640625 C 6.15625 -4.21875 5.078125 -5.296875 3.546875 -5.296875 C 2.71875 -5.296875 2.046875 -4.96875 1.59375 -4.34375 C 1.609375 -6.421875 2.28125 -7.578125 3.484375 -7.578125 C 4.234375 -7.578125 4.75 -7.109375 4.921875 -6.28125 L 5.96875 -6.28125 C 5.765625 -7.6875 4.859375 -8.515625 3.5625 -8.515625 C 1.578125 -8.515625 0.515625 -6.84375 0.515625 -3.875 C 0.515625 -1.21875 1.421875 0.1875 3.375 0.1875 C 4.984375 0.1875 6.15625 -0.96875 6.15625 -2.640625 Z M 5.078125 -2.5625 C 5.078125 -1.484375 4.359375 -0.75 3.390625 -0.75 C 2.40625 -0.75 1.65625 -1.53125 1.65625 -2.609375 C 1.65625 -3.671875 2.375 -4.359375 3.421875 -4.359375 C 4.4375 -4.359375 5.078125 -3.703125 5.078125 -2.5625 Z \"/>\n",
       "</symbol>\n",
       "<symbol overflow=\"visible\" id=\"glyph0-5\">\n",
       "<path style=\"stroke:none;\" d=\"M 6.15625 -2.40625 C 6.15625 -3.34375 5.671875 -4.015625 4.6875 -4.46875 C 5.5625 -5 5.859375 -5.4375 5.859375 -6.234375 C 5.859375 -7.578125 4.8125 -8.515625 3.296875 -8.515625 C 1.796875 -8.515625 0.75 -7.578125 0.75 -6.234375 C 0.75 -5.453125 1.03125 -5.015625 1.890625 -4.46875 C 0.921875 -4.015625 0.4375 -3.34375 0.4375 -2.40625 C 0.4375 -0.859375 1.625 0.1875 3.296875 0.1875 C 4.984375 0.1875 6.15625 -0.859375 6.15625 -2.40625 Z M 4.78125 -6.21875 C 4.78125 -5.421875 4.1875 -4.890625 3.296875 -4.890625 C 2.40625 -4.890625 1.828125 -5.421875 1.828125 -6.234375 C 1.828125 -7.046875 2.40625 -7.578125 3.296875 -7.578125 C 4.203125 -7.578125 4.78125 -7.046875 4.78125 -6.21875 Z M 5.078125 -2.390625 C 5.078125 -1.375 4.359375 -0.75 3.28125 -0.75 C 2.25 -0.75 1.53125 -1.390625 1.53125 -2.390625 C 1.53125 -3.390625 2.25 -4.015625 3.296875 -4.015625 C 4.359375 -4.015625 5.078125 -3.390625 5.078125 -2.390625 Z \"/>\n",
       "</symbol>\n",
       "<symbol overflow=\"visible\" id=\"glyph0-6\">\n",
       "<path style=\"stroke:none;\" d=\"M 4.15625 0 L 4.15625 -8.515625 L 3.46875 -8.515625 C 3.09375 -7.203125 2.859375 -7.015625 1.21875 -6.8125 L 1.21875 -6.0625 L 3.109375 -6.0625 L 3.109375 0 Z \"/>\n",
       "</symbol>\n",
       "<symbol overflow=\"visible\" id=\"glyph0-7\">\n",
       "<path style=\"stroke:none;\" d=\"M 5.84375 0 L 5.84375 -4.75 C 5.84375 -5.796875 5.0625 -6.46875 3.859375 -6.46875 C 2.921875 -6.46875 2.3125 -6.109375 1.765625 -5.234375 L 1.765625 -6.28125 L 0.84375 -6.28125 L 0.84375 0 L 1.84375 0 L 1.84375 -3.46875 C 1.84375 -4.75 2.53125 -5.59375 3.546875 -5.59375 C 4.34375 -5.59375 4.84375 -5.109375 4.84375 -4.359375 L 4.84375 0 Z \"/>\n",
       "</symbol>\n",
       "<symbol overflow=\"visible\" id=\"glyph0-8\">\n",
       "<path style=\"stroke:none;\" d=\"M 6.9375 2.125 L 6.9375 1.53125 L -0.265625 1.53125 L -0.265625 2.125 Z \"/>\n",
       "</symbol>\n",
       "<symbol overflow=\"visible\" id=\"glyph0-9\">\n",
       "<path style=\"stroke:none;\" d=\"M 5.828125 -6.28125 L 4.703125 -6.28125 L 2.921875 -1.1875 L 1.25 -6.28125 L 0.125 -6.28125 L 2.328125 0 L 3.421875 0 Z \"/>\n",
       "</symbol>\n",
       "<symbol overflow=\"visible\" id=\"glyph0-10\">\n",
       "<path style=\"stroke:none;\" d=\"M 6.15625 -2.859375 C 6.15625 -3.765625 6.078125 -4.34375 5.90625 -4.8125 C 5.5 -5.84375 4.53125 -6.46875 3.359375 -6.46875 C 1.609375 -6.46875 0.484375 -5.171875 0.484375 -3.109375 C 0.484375 -1.046875 1.578125 0.1875 3.34375 0.1875 C 4.78125 0.1875 5.765625 -0.640625 6.03125 -1.90625 L 5.015625 -1.90625 C 4.734375 -1.078125 4.171875 -0.75 3.375 -0.75 C 2.328125 -0.75 1.546875 -1.421875 1.53125 -2.859375 Z M 5.09375 -3.75 C 5.09375 -3.75 5.09375 -3.703125 5.078125 -3.671875 L 1.546875 -3.671875 C 1.625 -4.78125 2.34375 -5.546875 3.34375 -5.546875 C 4.328125 -5.546875 5.09375 -4.734375 5.09375 -3.75 Z \"/>\n",
       "</symbol>\n",
       "<symbol overflow=\"visible\" id=\"glyph0-11\">\n",
       "<path style=\"stroke:none;\" d=\"M 5.71875 -2.15625 L 4.71875 -2.15625 C 4.546875 -1.15625 4.03125 -0.75 3.1875 -0.75 C 2.078125 -0.75 1.421875 -1.59375 1.421875 -3.078125 C 1.421875 -4.65625 2.0625 -5.546875 3.15625 -5.546875 C 4 -5.546875 4.53125 -5.046875 4.640625 -4.171875 L 5.65625 -4.171875 C 5.53125 -5.71875 4.578125 -6.46875 3.171875 -6.46875 C 1.46875 -6.46875 0.375 -5.171875 0.375 -3.078125 C 0.375 -1.0625 1.453125 0.1875 3.15625 0.1875 C 4.65625 0.1875 5.609375 -0.71875 5.71875 -2.15625 Z \"/>\n",
       "</symbol>\n",
       "<symbol overflow=\"visible\" id=\"glyph1-0\">\n",
       "<path style=\"stroke:none;\" d=\"\"/>\n",
       "</symbol>\n",
       "<symbol overflow=\"visible\" id=\"glyph1-1\">\n",
       "<path style=\"stroke:none;\" d=\"M -4.09375 -6.078125 C -7.046875 -6.078125 -8.515625 -5.140625 -8.515625 -3.296875 C -8.515625 -1.46875 -7.015625 -0.515625 -4.15625 -0.515625 C -1.296875 -0.515625 0.1875 -1.46875 0.1875 -3.296875 C 0.1875 -5.09375 -1.296875 -6.078125 -4.09375 -6.078125 Z M -4.1875 -5 C -1.78125 -5 -0.703125 -4.453125 -0.703125 -3.28125 C -0.703125 -2.15625 -1.828125 -1.59375 -4.15625 -1.59375 C -6.484375 -1.59375 -7.578125 -2.15625 -7.578125 -3.296875 C -7.578125 -4.4375 -6.46875 -5 -4.1875 -5 Z \"/>\n",
       "</symbol>\n",
       "<symbol overflow=\"visible\" id=\"glyph1-2\">\n",
       "<path style=\"stroke:none;\" d=\"M 0 -2.296875 L -1.25 -2.296875 L -1.25 -1.046875 L 0 -1.046875 Z \"/>\n",
       "</symbol>\n",
       "<symbol overflow=\"visible\" id=\"glyph1-3\">\n",
       "<path style=\"stroke:none;\" d=\"M -2.046875 -6.234375 L -2.984375 -6.234375 L -2.984375 -4.984375 L -8.515625 -4.984375 L -8.515625 -4.203125 L -3.15625 -0.34375 L -2.046875 -0.34375 L -2.046875 -3.921875 L 0 -3.921875 L 0 -4.984375 L -2.046875 -4.984375 Z M -2.984375 -3.921875 L -2.984375 -1.265625 L -6.703125 -3.921875 Z \"/>\n",
       "</symbol>\n",
       "<symbol overflow=\"visible\" id=\"glyph1-4\">\n",
       "<path style=\"stroke:none;\" d=\"M -2.8125 -6.15625 C -4.5 -6.15625 -5.609375 -5.046875 -5.609375 -3.40625 C -5.609375 -2.8125 -5.453125 -2.328125 -5.09375 -1.84375 L -7.28125 -2.171875 L -7.28125 -5.71875 L -8.328125 -5.71875 L -8.328125 -1.3125 L -3.875 -0.6875 L -3.875 -1.65625 C -4.46875 -2.140625 -4.671875 -2.5625 -4.671875 -3.21875 C -4.671875 -4.359375 -3.9375 -5.078125 -2.671875 -5.078125 C -1.453125 -5.078125 -0.75 -4.375 -0.75 -3.21875 C -0.75 -2.296875 -1.21875 -1.734375 -2.1875 -1.46875 L -2.1875 -0.421875 C -0.484375 -0.765625 0.1875 -1.734375 0.1875 -3.234375 C 0.1875 -4.953125 -1.015625 -6.15625 -2.8125 -6.15625 Z \"/>\n",
       "</symbol>\n",
       "<symbol overflow=\"visible\" id=\"glyph1-5\">\n",
       "<path style=\"stroke:none;\" d=\"M -2.640625 -6.15625 C -4.21875 -6.15625 -5.296875 -5.078125 -5.296875 -3.546875 C -5.296875 -2.71875 -4.96875 -2.046875 -4.34375 -1.59375 C -6.421875 -1.609375 -7.578125 -2.28125 -7.578125 -3.484375 C -7.578125 -4.234375 -7.109375 -4.75 -6.28125 -4.921875 L -6.28125 -5.96875 C -7.6875 -5.765625 -8.515625 -4.859375 -8.515625 -3.5625 C -8.515625 -1.578125 -6.84375 -0.515625 -3.875 -0.515625 C -1.21875 -0.515625 0.1875 -1.421875 0.1875 -3.375 C 0.1875 -4.984375 -0.96875 -6.15625 -2.640625 -6.15625 Z M -2.5625 -5.078125 C -1.484375 -5.078125 -0.75 -4.359375 -0.75 -3.390625 C -0.75 -2.40625 -1.53125 -1.65625 -2.609375 -1.65625 C -3.671875 -1.65625 -4.359375 -2.375 -4.359375 -3.421875 C -4.359375 -4.4375 -3.703125 -5.078125 -2.5625 -5.078125 Z \"/>\n",
       "</symbol>\n",
       "<symbol overflow=\"visible\" id=\"glyph1-6\">\n",
       "<path style=\"stroke:none;\" d=\"M -7.4375 -6.234375 L -8.328125 -6.234375 L -8.328125 -0.546875 L -7.28125 -0.546875 L -7.28125 -5.140625 C -5.140625 -3.453125 -2.65625 -2.25 0 -1.65625 L 0 -2.78125 C -2.75 -3.25 -5.3125 -4.453125 -7.4375 -6.234375 Z \"/>\n",
       "</symbol>\n",
       "<symbol overflow=\"visible\" id=\"glyph1-7\">\n",
       "<path style=\"stroke:none;\" d=\"M -2.40625 -6.15625 C -3.34375 -6.15625 -4.015625 -5.671875 -4.46875 -4.6875 C -5 -5.5625 -5.4375 -5.859375 -6.234375 -5.859375 C -7.578125 -5.859375 -8.515625 -4.8125 -8.515625 -3.296875 C -8.515625 -1.796875 -7.578125 -0.75 -6.234375 -0.75 C -5.453125 -0.75 -5.015625 -1.03125 -4.46875 -1.890625 C -4.015625 -0.921875 -3.34375 -0.4375 -2.40625 -0.4375 C -0.859375 -0.4375 0.1875 -1.625 0.1875 -3.296875 C 0.1875 -4.984375 -0.859375 -6.15625 -2.40625 -6.15625 Z M -6.21875 -4.78125 C -5.421875 -4.78125 -4.890625 -4.1875 -4.890625 -3.296875 C -4.890625 -2.40625 -5.421875 -1.828125 -6.234375 -1.828125 C -7.046875 -1.828125 -7.578125 -2.40625 -7.578125 -3.296875 C -7.578125 -4.203125 -7.046875 -4.78125 -6.21875 -4.78125 Z M -2.390625 -5.078125 C -1.375 -5.078125 -0.75 -4.359375 -0.75 -3.28125 C -0.75 -2.25 -1.390625 -1.53125 -2.390625 -1.53125 C -3.390625 -1.53125 -4.015625 -2.25 -4.015625 -3.296875 C -4.015625 -4.359375 -3.390625 -5.078125 -2.390625 -5.078125 Z \"/>\n",
       "</symbol>\n",
       "<symbol overflow=\"visible\" id=\"glyph1-8\">\n",
       "<path style=\"stroke:none;\" d=\"M -4.453125 -6.109375 C -7.109375 -6.109375 -8.515625 -5.1875 -8.515625 -3.234375 C -8.515625 -1.625 -7.359375 -0.453125 -5.6875 -0.453125 C -4.109375 -0.453125 -3.03125 -1.53125 -3.03125 -3.078125 C -3.03125 -3.875 -3.328125 -4.46875 -3.984375 -5.015625 C -1.90625 -5 -0.75 -4.328125 -0.75 -3.125 C -0.75 -2.375 -1.21875 -1.859375 -2.046875 -1.6875 L -2.046875 -0.640625 C -0.640625 -0.84375 0.1875 -1.75 0.1875 -3.046875 C 0.1875 -5.046875 -1.515625 -6.109375 -4.453125 -6.109375 Z M -5.71875 -4.953125 C -4.671875 -4.953125 -3.96875 -4.21875 -3.96875 -3.1875 C -3.96875 -2.171875 -4.625 -1.53125 -5.765625 -1.53125 C -6.859375 -1.53125 -7.578125 -2.25 -7.578125 -3.234375 C -7.578125 -4.21875 -6.8125 -4.953125 -5.71875 -4.953125 Z \"/>\n",
       "</symbol>\n",
       "<symbol overflow=\"visible\" id=\"glyph1-9\">\n",
       "<path style=\"stroke:none;\" d=\"M 0 -4.15625 L -8.515625 -4.15625 L -8.515625 -3.46875 C -7.203125 -3.09375 -7.015625 -2.859375 -6.8125 -1.21875 L -6.0625 -1.21875 L -6.0625 -3.109375 L 0 -3.109375 Z \"/>\n",
       "</symbol>\n",
       "<symbol overflow=\"visible\" id=\"glyph1-10\">\n",
       "<path style=\"stroke:none;\" d=\"M -5.40625 -3.859375 L -6.4375 -3.859375 C -6.453125 -3.6875 -6.46875 -3.59375 -6.46875 -3.46875 C -6.46875 -2.8125 -6.078125 -2.328125 -5.140625 -1.75 L -6.28125 -1.75 L -6.28125 -0.84375 L 0 -0.84375 L 0 -1.84375 L -3.265625 -1.84375 C -4.6875 -1.84375 -5.390625 -2.296875 -5.40625 -3.859375 Z \"/>\n",
       "</symbol>\n",
       "<symbol overflow=\"visible\" id=\"glyph1-11\">\n",
       "<path style=\"stroke:none;\" d=\"M -2.859375 -6.15625 C -3.765625 -6.15625 -4.34375 -6.078125 -4.8125 -5.90625 C -5.84375 -5.5 -6.46875 -4.53125 -6.46875 -3.359375 C -6.46875 -1.609375 -5.171875 -0.484375 -3.109375 -0.484375 C -1.046875 -0.484375 0.1875 -1.578125 0.1875 -3.34375 C 0.1875 -4.78125 -0.640625 -5.765625 -1.90625 -6.03125 L -1.90625 -5.015625 C -1.078125 -4.734375 -0.75 -4.171875 -0.75 -3.375 C -0.75 -2.328125 -1.421875 -1.546875 -2.859375 -1.53125 Z M -3.75 -5.09375 C -3.75 -5.09375 -3.703125 -5.09375 -3.671875 -5.078125 L -3.671875 -1.546875 C -4.78125 -1.625 -5.546875 -2.34375 -5.546875 -3.34375 C -5.546875 -4.328125 -4.734375 -5.09375 -3.75 -5.09375 Z \"/>\n",
       "</symbol>\n",
       "<symbol overflow=\"visible\" id=\"glyph1-12\">\n",
       "<path style=\"stroke:none;\" d=\"M -1.765625 -5.515625 C -2.703125 -5.515625 -3.171875 -4.984375 -3.46875 -3.734375 L -3.703125 -2.765625 C -3.890625 -1.953125 -4.15625 -1.609375 -4.59375 -1.609375 C -5.171875 -1.609375 -5.546875 -2.125 -5.546875 -2.9375 C -5.546875 -3.75 -5.203125 -4.171875 -4.53125 -4.203125 L -4.53125 -5.25 C -5.765625 -5.25 -6.46875 -4.421875 -6.46875 -2.96875 C -6.46875 -1.515625 -5.71875 -0.5625 -4.546875 -0.5625 C -3.5625 -0.5625 -3.09375 -1.0625 -2.734375 -2.5625 L -2.515625 -3.484375 C -2.34375 -4.1875 -2.140625 -4.46875 -1.6875 -4.46875 C -1.09375 -4.46875 -0.75 -3.875 -0.75 -3 C -0.75 -2.09375 -0.953125 -1.59375 -1.921875 -1.46875 L -1.921875 -0.40625 C -0.46875 -0.453125 0.1875 -1.265625 0.1875 -2.921875 C 0.1875 -4.5 -0.546875 -5.515625 -1.765625 -5.515625 Z \"/>\n",
       "</symbol>\n",
       "<symbol overflow=\"visible\" id=\"glyph1-13\">\n",
       "<path style=\"stroke:none;\" d=\"M 0 -5.78125 L -6.28125 -5.78125 L -6.28125 -4.78125 L -2.8125 -4.78125 C -1.53125 -4.78125 -0.703125 -4.109375 -0.703125 -3.078125 C -0.703125 -2.28125 -1.171875 -1.78125 -1.9375 -1.78125 L -6.28125 -1.78125 L -6.28125 -0.78125 L -1.53125 -0.78125 C -0.484375 -0.78125 0.1875 -1.5625 0.1875 -2.78125 C 0.1875 -3.703125 -0.140625 -4.296875 -0.96875 -4.890625 L 0 -4.890625 Z \"/>\n",
       "</symbol>\n",
       "<symbol overflow=\"visible\" id=\"glyph1-14\">\n",
       "<path style=\"stroke:none;\" d=\"M 0 -1.8125 L -8.75 -1.8125 L -8.75 -0.8125 L 0 -0.8125 Z \"/>\n",
       "</symbol>\n",
       "<symbol overflow=\"visible\" id=\"glyph1-15\">\n",
       "<path style=\"stroke:none;\" d=\"M 0 -3.046875 L -0.84375 -3.046875 C -0.796875 -2.921875 -0.796875 -2.765625 -0.796875 -2.5625 C -0.796875 -2.140625 -0.90625 -2.015625 -1.359375 -2.015625 L -5.46875 -2.015625 L -5.46875 -3.046875 L -6.28125 -3.046875 L -6.28125 -2.015625 L -8.015625 -2.015625 L -8.015625 -1.015625 L -6.28125 -1.015625 L -6.28125 -0.171875 L -5.46875 -0.171875 L -5.46875 -1.015625 L -0.90625 -1.015625 C -0.28125 -1.015625 0.078125 -1.453125 0.078125 -2.234375 C 0.078125 -2.46875 0.0625 -2.71875 0 -3.046875 Z \"/>\n",
       "</symbol>\n",
       "</g>\n",
       "</defs>\n",
       "<g id=\"surface352\">\n",
       "<rect x=\"0\" y=\"0\" width=\"504\" height=\"504\" style=\"fill:rgb(100%,100%,100%);fill-opacity:1;stroke:none;\"/>\n",
       "<path style=\"fill:none;stroke-width:0.75;stroke-linecap:round;stroke-linejoin:round;stroke:rgb(0%,0%,0%);stroke-opacity:1;stroke-miterlimit:10;\" d=\"M 78.238281 155.628906 L 82.078125 416.800781 L 85.921875 226.3125 L 89.761719 164.015625 L 93.601562 123.5 L 97.441406 137.636719 L 101.28125 134.273438 L 105.121094 88.410156 L 108.960938 128.660156 L 112.800781 139 L 116.640625 212.542969 L 120.480469 101.691406 L 124.320312 100.199219 L 128.160156 107.03125 L 132 141.644531 L 135.839844 206.472656 L 139.679688 128.703125 L 143.519531 93.957031 L 147.359375 122.433594 L 151.199219 140.660156 L 155.039062 115.800781 L 158.878906 139.4375 L 162.71875 114.023438 L 166.558594 102.363281 L 170.398438 165.746094 L 174.238281 150.21875 L 178.078125 109.445312 L 181.921875 145.671875 L 185.761719 134.101562 L 189.601562 107.195312 L 193.441406 72.800781 L 197.28125 155.4375 L 201.121094 119.175781 L 204.960938 112.71875 L 208.800781 116.25 L 212.640625 109.496094 L 216.480469 201.535156 L 220.320312 81.03125 L 224.160156 136.34375 L 228 153.941406 L 231.839844 126.761719 L 235.679688 107.515625 L 239.519531 125.71875 L 243.359375 136.476562 L 247.199219 104.738281 L 251.039062 136.515625 L 254.878906 103.335938 L 258.71875 129.726562 L 262.558594 178.792969 L 266.398438 146.207031 L 270.238281 152.050781 L 274.078125 147.101562 L 277.921875 178.472656 L 281.761719 121.621094 L 285.601562 158.546875 L 289.441406 134.09375 L 293.28125 118.546875 L 297.121094 201.136719 L 300.960938 129.007812 L 304.800781 141.324219 L 308.640625 112.882812 L 312.480469 133.777344 L 316.320312 123.941406 L 320.160156 121.917969 L 324 144.09375 L 327.839844 139 L 331.679688 175.285156 L 335.519531 133.175781 L 339.359375 88.078125 L 343.199219 131.367188 L 347.039062 116.453125 L 350.878906 116.148438 L 354.71875 122.449219 L 358.558594 153.132812 L 362.398438 149.996094 L 366.238281 134.359375 L 370.078125 169.617188 L 373.921875 131.46875 L 377.761719 151.074219 L 381.601562 142.375 L 385.441406 133.488281 L 389.28125 118.5 L 393.121094 139.507812 L 396.960938 161.253906 L 400.800781 141.480469 L 404.640625 129.839844 L 408.480469 153.691406 L 412.320312 147.238281 L 416.160156 157.050781 L 420 111.671875 L 423.839844 144.082031 L 427.679688 144.234375 L 431.519531 144.796875 L 435.359375 140.140625 L 439.199219 113.949219 L 443.039062 155.03125 L 446.878906 136.597656 L 450.71875 146.675781 L 454.558594 125.734375 L 458.398438 156.976562 \"/>\n",
       "<path style=\"fill:none;stroke-width:0.75;stroke-linecap:round;stroke-linejoin:round;stroke:rgb(0%,0%,0%);stroke-opacity:1;stroke-miterlimit:10;\" d=\"M 74.398438 430.558594 L 458.398438 430.558594 \"/>\n",
       "<path style=\"fill:none;stroke-width:0.75;stroke-linecap:round;stroke-linejoin:round;stroke:rgb(0%,0%,0%);stroke-opacity:1;stroke-miterlimit:10;\" d=\"M 74.398438 430.558594 L 74.398438 437.761719 \"/>\n",
       "<path style=\"fill:none;stroke-width:0.75;stroke-linecap:round;stroke-linejoin:round;stroke:rgb(0%,0%,0%);stroke-opacity:1;stroke-miterlimit:10;\" d=\"M 151.199219 430.558594 L 151.199219 437.761719 \"/>\n",
       "<path style=\"fill:none;stroke-width:0.75;stroke-linecap:round;stroke-linejoin:round;stroke:rgb(0%,0%,0%);stroke-opacity:1;stroke-miterlimit:10;\" d=\"M 228 430.558594 L 228 437.761719 \"/>\n",
       "<path style=\"fill:none;stroke-width:0.75;stroke-linecap:round;stroke-linejoin:round;stroke:rgb(0%,0%,0%);stroke-opacity:1;stroke-miterlimit:10;\" d=\"M 304.800781 430.558594 L 304.800781 437.761719 \"/>\n",
       "<path style=\"fill:none;stroke-width:0.75;stroke-linecap:round;stroke-linejoin:round;stroke:rgb(0%,0%,0%);stroke-opacity:1;stroke-miterlimit:10;\" d=\"M 381.601562 430.558594 L 381.601562 437.761719 \"/>\n",
       "<path style=\"fill:none;stroke-width:0.75;stroke-linecap:round;stroke-linejoin:round;stroke:rgb(0%,0%,0%);stroke-opacity:1;stroke-miterlimit:10;\" d=\"M 458.398438 430.558594 L 458.398438 437.761719 \"/>\n",
       "<g style=\"fill:rgb(0%,0%,0%);fill-opacity:1;\">\n",
       "  <use xlink:href=\"#glyph0-1\" x=\"70.898438\" y=\"456.256836\"/>\n",
       "</g>\n",
       "<g style=\"fill:rgb(0%,0%,0%);fill-opacity:1;\">\n",
       "  <use xlink:href=\"#glyph0-2\" x=\"137.699219\" y=\"456.256836\"/>\n",
       "  <use xlink:href=\"#glyph0-1\" x=\"144.371094\" y=\"456.256836\"/>\n",
       "  <use xlink:href=\"#glyph0-1\" x=\"151.042969\" y=\"456.256836\"/>\n",
       "  <use xlink:href=\"#glyph0-1\" x=\"157.714844\" y=\"456.256836\"/>\n",
       "</g>\n",
       "<g style=\"fill:rgb(0%,0%,0%);fill-opacity:1;\">\n",
       "  <use xlink:href=\"#glyph0-3\" x=\"214.5\" y=\"456.256836\"/>\n",
       "  <use xlink:href=\"#glyph0-1\" x=\"221.171875\" y=\"456.256836\"/>\n",
       "  <use xlink:href=\"#glyph0-1\" x=\"227.84375\" y=\"456.256836\"/>\n",
       "  <use xlink:href=\"#glyph0-1\" x=\"234.515625\" y=\"456.256836\"/>\n",
       "</g>\n",
       "<g style=\"fill:rgb(0%,0%,0%);fill-opacity:1;\">\n",
       "  <use xlink:href=\"#glyph0-4\" x=\"291.300781\" y=\"456.256836\"/>\n",
       "  <use xlink:href=\"#glyph0-1\" x=\"297.972656\" y=\"456.256836\"/>\n",
       "  <use xlink:href=\"#glyph0-1\" x=\"304.644531\" y=\"456.256836\"/>\n",
       "  <use xlink:href=\"#glyph0-1\" x=\"311.316406\" y=\"456.256836\"/>\n",
       "</g>\n",
       "<g style=\"fill:rgb(0%,0%,0%);fill-opacity:1;\">\n",
       "  <use xlink:href=\"#glyph0-5\" x=\"368.101562\" y=\"456.256836\"/>\n",
       "  <use xlink:href=\"#glyph0-1\" x=\"374.773438\" y=\"456.256836\"/>\n",
       "  <use xlink:href=\"#glyph0-1\" x=\"381.445312\" y=\"456.256836\"/>\n",
       "  <use xlink:href=\"#glyph0-1\" x=\"388.117188\" y=\"456.256836\"/>\n",
       "</g>\n",
       "<g style=\"fill:rgb(0%,0%,0%);fill-opacity:1;\">\n",
       "  <use xlink:href=\"#glyph0-6\" x=\"441.398438\" y=\"456.256836\"/>\n",
       "  <use xlink:href=\"#glyph0-1\" x=\"448.070312\" y=\"456.256836\"/>\n",
       "  <use xlink:href=\"#glyph0-1\" x=\"454.742188\" y=\"456.256836\"/>\n",
       "  <use xlink:href=\"#glyph0-1\" x=\"461.414062\" y=\"456.256836\"/>\n",
       "  <use xlink:href=\"#glyph0-1\" x=\"468.085938\" y=\"456.256836\"/>\n",
       "</g>\n",
       "<path style=\"fill:none;stroke-width:0.75;stroke-linecap:round;stroke-linejoin:round;stroke:rgb(0%,0%,0%);stroke-opacity:1;stroke-miterlimit:10;\" d=\"M 59.039062 390.777344 L 59.039062 84.207031 \"/>\n",
       "<path style=\"fill:none;stroke-width:0.75;stroke-linecap:round;stroke-linejoin:round;stroke:rgb(0%,0%,0%);stroke-opacity:1;stroke-miterlimit:10;\" d=\"M 59.039062 390.777344 L 51.839844 390.777344 \"/>\n",
       "<path style=\"fill:none;stroke-width:0.75;stroke-linecap:round;stroke-linejoin:round;stroke:rgb(0%,0%,0%);stroke-opacity:1;stroke-miterlimit:10;\" d=\"M 59.039062 339.683594 L 51.839844 339.683594 \"/>\n",
       "<path style=\"fill:none;stroke-width:0.75;stroke-linecap:round;stroke-linejoin:round;stroke:rgb(0%,0%,0%);stroke-opacity:1;stroke-miterlimit:10;\" d=\"M 59.039062 288.585938 L 51.839844 288.585938 \"/>\n",
       "<path style=\"fill:none;stroke-width:0.75;stroke-linecap:round;stroke-linejoin:round;stroke:rgb(0%,0%,0%);stroke-opacity:1;stroke-miterlimit:10;\" d=\"M 59.039062 237.492188 L 51.839844 237.492188 \"/>\n",
       "<path style=\"fill:none;stroke-width:0.75;stroke-linecap:round;stroke-linejoin:round;stroke:rgb(0%,0%,0%);stroke-opacity:1;stroke-miterlimit:10;\" d=\"M 59.039062 186.398438 L 51.839844 186.398438 \"/>\n",
       "<path style=\"fill:none;stroke-width:0.75;stroke-linecap:round;stroke-linejoin:round;stroke:rgb(0%,0%,0%);stroke-opacity:1;stroke-miterlimit:10;\" d=\"M 59.039062 135.300781 L 51.839844 135.300781 \"/>\n",
       "<path style=\"fill:none;stroke-width:0.75;stroke-linecap:round;stroke-linejoin:round;stroke:rgb(0%,0%,0%);stroke-opacity:1;stroke-miterlimit:10;\" d=\"M 59.039062 84.207031 L 51.839844 84.207031 \"/>\n",
       "<g style=\"fill:rgb(0%,0%,0%);fill-opacity:1;\">\n",
       "  <use xlink:href=\"#glyph1-1\" x=\"41.538086\" y=\"402.777344\"/>\n",
       "  <use xlink:href=\"#glyph1-2\" x=\"41.538086\" y=\"396.105469\"/>\n",
       "  <use xlink:href=\"#glyph1-3\" x=\"41.538086\" y=\"392.769531\"/>\n",
       "  <use xlink:href=\"#glyph1-4\" x=\"41.538086\" y=\"386.097656\"/>\n",
       "</g>\n",
       "<g style=\"fill:rgb(0%,0%,0%);fill-opacity:1;\">\n",
       "  <use xlink:href=\"#glyph1-1\" x=\"41.538086\" y=\"351.683594\"/>\n",
       "  <use xlink:href=\"#glyph1-2\" x=\"41.538086\" y=\"345.011719\"/>\n",
       "  <use xlink:href=\"#glyph1-3\" x=\"41.538086\" y=\"341.675781\"/>\n",
       "  <use xlink:href=\"#glyph1-5\" x=\"41.538086\" y=\"335.003906\"/>\n",
       "</g>\n",
       "<g style=\"fill:rgb(0%,0%,0%);fill-opacity:1;\">\n",
       "  <use xlink:href=\"#glyph1-1\" x=\"41.538086\" y=\"300.585938\"/>\n",
       "  <use xlink:href=\"#glyph1-2\" x=\"41.538086\" y=\"293.914062\"/>\n",
       "  <use xlink:href=\"#glyph1-3\" x=\"41.538086\" y=\"290.578125\"/>\n",
       "  <use xlink:href=\"#glyph1-6\" x=\"41.538086\" y=\"283.90625\"/>\n",
       "</g>\n",
       "<g style=\"fill:rgb(0%,0%,0%);fill-opacity:1;\">\n",
       "  <use xlink:href=\"#glyph1-1\" x=\"41.538086\" y=\"249.492188\"/>\n",
       "  <use xlink:href=\"#glyph1-2\" x=\"41.538086\" y=\"242.820312\"/>\n",
       "  <use xlink:href=\"#glyph1-3\" x=\"41.538086\" y=\"239.484375\"/>\n",
       "  <use xlink:href=\"#glyph1-7\" x=\"41.538086\" y=\"232.8125\"/>\n",
       "</g>\n",
       "<g style=\"fill:rgb(0%,0%,0%);fill-opacity:1;\">\n",
       "  <use xlink:href=\"#glyph1-1\" x=\"41.538086\" y=\"198.398438\"/>\n",
       "  <use xlink:href=\"#glyph1-2\" x=\"41.538086\" y=\"191.726562\"/>\n",
       "  <use xlink:href=\"#glyph1-3\" x=\"41.538086\" y=\"188.390625\"/>\n",
       "  <use xlink:href=\"#glyph1-8\" x=\"41.538086\" y=\"181.71875\"/>\n",
       "</g>\n",
       "<g style=\"fill:rgb(0%,0%,0%);fill-opacity:1;\">\n",
       "  <use xlink:href=\"#glyph1-1\" x=\"41.538086\" y=\"147.300781\"/>\n",
       "  <use xlink:href=\"#glyph1-2\" x=\"41.538086\" y=\"140.628906\"/>\n",
       "  <use xlink:href=\"#glyph1-4\" x=\"41.538086\" y=\"137.292969\"/>\n",
       "  <use xlink:href=\"#glyph1-1\" x=\"41.538086\" y=\"130.621094\"/>\n",
       "</g>\n",
       "<g style=\"fill:rgb(0%,0%,0%);fill-opacity:1;\">\n",
       "  <use xlink:href=\"#glyph1-1\" x=\"41.538086\" y=\"96.207031\"/>\n",
       "  <use xlink:href=\"#glyph1-2\" x=\"41.538086\" y=\"89.535156\"/>\n",
       "  <use xlink:href=\"#glyph1-4\" x=\"41.538086\" y=\"86.199219\"/>\n",
       "  <use xlink:href=\"#glyph1-9\" x=\"41.538086\" y=\"79.527344\"/>\n",
       "</g>\n",
       "<path style=\"fill:none;stroke-width:0.75;stroke-linecap:round;stroke-linejoin:round;stroke:rgb(0%,0%,0%);stroke-opacity:1;stroke-miterlimit:10;\" d=\"M 59.039062 430.558594 L 473.761719 430.558594 L 473.761719 59.039062 L 59.039062 59.039062 L 59.039062 430.558594 \"/>\n",
       "<g style=\"fill:rgb(0%,0%,0%);fill-opacity:1;\">\n",
       "  <use xlink:href=\"#glyph0-7\" x=\"249.898438\" y=\"485.057617\"/>\n",
       "  <use xlink:href=\"#glyph0-8\" x=\"256.570312\" y=\"485.057617\"/>\n",
       "  <use xlink:href=\"#glyph0-9\" x=\"263.242188\" y=\"485.057617\"/>\n",
       "  <use xlink:href=\"#glyph0-10\" x=\"269.242188\" y=\"485.057617\"/>\n",
       "  <use xlink:href=\"#glyph0-11\" x=\"275.914062\" y=\"485.057617\"/>\n",
       "</g>\n",
       "<g style=\"fill:rgb(0%,0%,0%);fill-opacity:1;\">\n",
       "  <use xlink:href=\"#glyph1-10\" x=\"12.737305\" y=\"262.800781\"/>\n",
       "  <use xlink:href=\"#glyph1-11\" x=\"12.737305\" y=\"258.804688\"/>\n",
       "  <use xlink:href=\"#glyph1-12\" x=\"12.737305\" y=\"252.132812\"/>\n",
       "  <use xlink:href=\"#glyph1-13\" x=\"12.737305\" y=\"246.132812\"/>\n",
       "  <use xlink:href=\"#glyph1-14\" x=\"12.737305\" y=\"239.460938\"/>\n",
       "  <use xlink:href=\"#glyph1-15\" x=\"12.737305\" y=\"236.796875\"/>\n",
       "  <use xlink:href=\"#glyph1-12\" x=\"12.737305\" y=\"233.460938\"/>\n",
       "</g>\n",
       "</g>\n",
       "</svg>\n"
      ],
      "text/plain": [
       "plot without title"
      ]
     },
     "metadata": {
      "image/svg+xml": {
       "isolated": true
      }
     },
     "output_type": "display_data"
    }
   ],
   "source": [
    "# A quick example\n",
    "N <- seq(0, 10000, 100)\n",
    "\n",
    "# This one takes a lot longer\n",
    "#N <- seq(0, 1000000, 1000)\n",
    "plot_results(N)"
   ]
  },
  {
   "cell_type": "markdown",
   "metadata": {},
   "source": [
    "## Conclusion\n",
    "That's it! That's all you need to know about functions... hopefully. We should have covered the following:\n",
    "\n",
    "1. Learn how a computer represents mathematical functions.\n",
    "2. Learn how a programmatic function works.\n",
    "3. Learn how to define our own functions.\n",
    "4. Learn about data types, function arguments, and namespaces.\n",
    "5. Learn how to nest functions.\n",
    "\n",
    "# Homework:\n",
    "\n",
    "1. Choose five of the functions we wrote and write documentation for them. You can either use the `roxygen` format or your own, but I need to understand what the function does, what its arguments mean/what their datatypes are, who made it, and when was it made.\n",
    "2. Re-run the above sets of simulations (for some set of `n`) and plot the results for the a uniform variable on $[0, 10]$.\n",
    "3. Create a function that calculates the inverse cdf of any random variable you would like. (If you don't have a favorite random variable, use  $X \\sim f(x) = 3x^2$... but don't forget to calculate the cdf!)\n",
    "2. Run a Monte Carlo simulation to estimate the mean of the random variable from your answer to (3). Does your estimated solution match the theoretical value? **NOTE:** If you just copy and paste, there will be an error... it's up to you to track it down!\n",
    "3. Run a Monte Carlo simulation to estimate the mean of a standard normal random variable, i.e. $X \\sim \\mathcal{N}(0, 1)$.\n",
    "4. Modify the above functions to estimate *any* moment by Monte Carlo."
   ]
  }
 ],
 "metadata": {
  "kernelspec": {
   "display_name": "R",
   "language": "R",
   "name": "ir"
  },
  "language_info": {
   "codemirror_mode": "r",
   "file_extension": ".r",
   "mimetype": "text/x-r-source",
   "name": "R",
   "pygments_lexer": "r",
   "version": "3.3.1"
  }
 },
 "nbformat": 4,
 "nbformat_minor": 0
}
